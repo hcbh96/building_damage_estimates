{
 "cells": [
  {
   "cell_type": "markdown",
   "metadata": {},
   "source": [
    "# Objective: Analysing model outputs\n",
    "\n",
    "In this notebook we will use the outputs of the models trained in the previous notebook generate useful insights based on the predictions.\n",
    "\n",
    "# Data \n",
    "The data used in this notebook is the output of the models trained in the previous notebook. The data is stored in the `data/processed` folder in the root directory of the project. The data will contain the following columns:\n",
    "    - Oblast\n",
    "    - Raion\n",
    "    - Settlement\n",
    "    - ADM_1\n",
    "    - ADM_2\n",
    "    - ADM_3\n",
    "    - Ollie damage data\n",
    "    - War fire light flashes data\n",
    "    - Local window estimates data\n",
    "    - Window damage data (Item we are predicting)\n",
    "\n",
    "N.B. Whilst we are waiting for the model to be developed we can simulate this data in order to work on how the data will be displayed.\n",
    "\n",
    "# Analysis\n",
    "A few questions we can answer with the data are:\n",
    "- How many windows are damaged across the various ADM levels?\n",
    "- What is the rate of new damage to windows?\n",
    "- Can we provide plots to integrate with IU website for these metrics?\n",
    "\n",
    "\n"
   ]
  }
 ],
 "metadata": {
  "language_info": {
   "name": "python"
  }
 },
 "nbformat": 4,
 "nbformat_minor": 2
}
