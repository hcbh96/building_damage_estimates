{
 "cells": [
  {
   "cell_type": "markdown",
   "metadata": {},
   "source": [
    "# Objective: Predict window damage across towns\n",
    "In this notebook we will look to use the work from the war fire data combined with the building damage assessments from Ollie at UCL and local estimates to produce a model that can predict the damage at the desired ADM level. With information on the ADMs we are interested in.\n",
    "\n",
    "# Data\n",
    "The data we have is the following:\n",
    "- The building damage assessments from Ollie at UCL\n",
    "- The war fire data\n",
    "- The ADM data\n",
    "\n",
    "# Process\n",
    "The process we will follow is the following:\n",
    "1. Load the data\n",
    "2. Preprocess the data\n",
    "- Build a dataset that has the following columns:\n",
    "    - Oblast\n",
    "    - Raion\n",
    "    - Settlement\n",
    "    - ADM_1\n",
    "    - ADM_2\n",
    "    - ADM_3\n",
    "    - Ollie damage data\n",
    "    - War fire light flashes data\n",
    "    - Local window estimates data\n",
    "    - Window damage data (Item we are predicting)\n",
    "3. Train the model\n",
    "    - Linear regression\n",
    "    - Random forest\n",
    "    - Gradient boosting\n",
    "    - Neural network\n",
    "    - Gaussian Process\n",
    "4. Evaluate the model\n",
    "5. Predict the damage across dataset.\n",
    "\n",
    "# Evaluation\n",
    "Note on evaluation. We want to develop some gold standard set that we can evaluate against. Maybe a neighbor hood in Izyum or something of this sort. Ollie mentioned the UNICEF methodolgy may be good for this which is direct tagging of damage based on satelite data of specific locations. Alternatively there is a group at the department of reconstruction tasked with getting data for grants to war impacted individuals to repair their homes. This data may be useful for evaluation.\n",
    "\n",
    "# Predictions\n",
    "We will predict the damage across the dataset and provide the results in a csv file. This can then be used in a separate notebook to provide useful plots and analytics to our teams."
   ]
  }
 ],
 "metadata": {
  "language_info": {
   "name": "python"
  }
 },
 "nbformat": 4,
 "nbformat_minor": 2
}
