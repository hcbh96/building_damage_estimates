{
 "cells": [
  {
   "cell_type": "markdown",
   "metadata": {},
   "source": [
    "# Building impacted by war fires\n",
    "# ==============================\n",
    "\n",
    "This notebook focuses on analyzing the impact of war fires on buildings in Ukraine. It begins by importing necessary libraries and setting a development flag. The script then retrieves war fire data from a GitHub repository and reads both war fire and building datasets. Utilizing reverse geocoding, it determines the state of each building based on its geographical coordinates. The processed war fire data is saved, and subsequent steps involve filtering the data for specific Ukrainian states, creating a geometry column, and converting coordinates to the UTM coordinate system. Additionally, the code calculates the centroid of buildings and performs a spatial analysis to count the number of buildings within a 50-meter buffer of each war fire. The final results, detailing the impact of war fires on buildings, are saved to a CSV file. The script concludes by exporting the code as a Python script for future use."
   ]
  },
  {
   "cell_type": "code",
   "execution_count": 42,
   "id": "c9509f85",
   "metadata": {},
   "outputs": [
    {
     "name": "stdout",
     "output_type": "stream",
     "text": [
      "/Users/harryhopalot/Documents/GitHub/dssd_Insulate_ukraine\n"
     ]
    }
   ],
   "source": [
    "# Auto update notebook imports\n",
    "#%load_ext autoreload\n",
    "#%autoreload 2\n",
    "\n",
    "# Backtrack to folder source directory if it doesn't already exist in path\n",
    "import os\n",
    "import sys\n",
    "\n",
    "if os.path.basename(os.getcwd()) == \"notebooks\":\n",
    "    os.chdir(\"..\")\n",
    "\n",
    "sys.path.append(os.getcwd())\n",
    "print(os.getcwd())\n",
    "\n",
    "import geopandas as gpd\n",
    "import pandas as pd\n",
    "from shapely.wkt import loads\n",
    "import numpy as np\n",
    "from shapely import wkt\n",
    "from shapely.geometry import Point\n",
    "from tqdm.notebook import tqdm\n",
    "from urllib.request import urlretrieve\n",
    "\n",
    "from geopy.geocoders import Nominatim\n",
    "geolocator = Nominatim(user_agent=\"myexer\")\n",
    "\n",
    "from src.data import make_dataset\n",
    "\n",
    "DEVELOPMENT = True\n",
    "\n",
    "raw_filepath = \"data/raw/\"\n",
    "interim_filepath = \"data/interim/\"\n",
    "external_filepath = \"data/external/\"\n",
    "processed_filepath = \"data/processed/\""
   ]
  },
  {
   "cell_type": "code",
   "execution_count": 43,
   "metadata": {},
   "outputs": [],
   "source": [
    "raw_filepath = \"data/raw/\"\n",
    "make_dataset.update_data(raw_filepath)"
   ]
  },
  {
   "cell_type": "code",
   "execution_count": 44,
   "id": "2eb076dd",
   "metadata": {},
   "outputs": [
    {
     "name": "stderr",
     "output_type": "stream",
     "text": [
      "/var/folders/yn/y0g2nf7d6tg_3p0ftb5f049c0000gn/T/ipykernel_42431/2763408197.py:6: DtypeWarning: Columns (7,9) have mixed types. Specify dtype option on import or set low_memory=False.\n",
      "  output_df = pd.read_csv(building_data_csv_path)\n"
     ]
    }
   ],
   "source": [
    "# Read in the data\n",
    "war_fire_csv_path = \"./data/raw/war_fires_by_ADM3.csv\"\n",
    "war_fire_df = pd.read_csv(war_fire_csv_path)\n",
    "\n",
    "building_data_csv_path = \"./data/raw/building_shapes_file.csv\"\n",
    "output_df = pd.read_csv(building_data_csv_path)"
   ]
  },
  {
   "cell_type": "markdown",
   "id": "b1e5b71c",
   "metadata": {},
   "source": [
    "# Ukraine war fire dataset"
   ]
  },
  {
   "cell_type": "code",
   "execution_count": 45,
   "id": "10ed37b6",
   "metadata": {},
   "outputs": [
    {
     "data": {
      "text/html": [
       "<div>\n",
       "<style scoped>\n",
       "    .dataframe tbody tr th:only-of-type {\n",
       "        vertical-align: middle;\n",
       "    }\n",
       "\n",
       "    .dataframe tbody tr th {\n",
       "        vertical-align: top;\n",
       "    }\n",
       "\n",
       "    .dataframe thead th {\n",
       "        text-align: right;\n",
       "    }\n",
       "</style>\n",
       "<table border=\"1\" class=\"dataframe\">\n",
       "  <thead>\n",
       "    <tr style=\"text-align: right;\">\n",
       "      <th></th>\n",
       "      <th>LATITUDE</th>\n",
       "      <th>LONGITUDE</th>\n",
       "      <th>ADM3_PCODE</th>\n",
       "      <th>municipality</th>\n",
       "      <th>ADM3_EN</th>\n",
       "      <th>ADM3_UA</th>\n",
       "      <th>ADM3_RU</th>\n",
       "      <th>ADM2_EN</th>\n",
       "      <th>ADM2_UA</th>\n",
       "      <th>ADM2_RU</th>\n",
       "      <th>ADM2_PCODE</th>\n",
       "      <th>ADM1_EN</th>\n",
       "      <th>ADM1_UA</th>\n",
       "      <th>ADM1_RU</th>\n",
       "      <th>ADM1_PCODE</th>\n",
       "      <th>ADM0_EN</th>\n",
       "      <th>year</th>\n",
       "      <th>ACQ_TIME</th>\n",
       "      <th>date</th>\n",
       "      <th>pop_exact</th>\n",
       "    </tr>\n",
       "  </thead>\n",
       "  <tbody>\n",
       "    <tr>\n",
       "      <th>0</th>\n",
       "      <td>44.73999</td>\n",
       "      <td>34.29688</td>\n",
       "      <td>UA0120009</td>\n",
       "      <td>UA0120009</td>\n",
       "      <td>Izobilnenska</td>\n",
       "      <td>Ізобільненська</td>\n",
       "      <td>Изобильненский</td>\n",
       "      <td>Yaltynskyi</td>\n",
       "      <td>Ялтинський</td>\n",
       "      <td>Ялтинский</td>\n",
       "      <td>UA0120</td>\n",
       "      <td>Autonomous Republic of Crimea</td>\n",
       "      <td>Автономна Республіка Крим</td>\n",
       "      <td>Автономная Республика Крым</td>\n",
       "      <td>UA01</td>\n",
       "      <td>Ukraine</td>\n",
       "      <td>2023</td>\n",
       "      <td>3</td>\n",
       "      <td>2023-10-02</td>\n",
       "      <td>12.081634</td>\n",
       "    </tr>\n",
       "    <tr>\n",
       "      <th>1</th>\n",
       "      <td>44.85680</td>\n",
       "      <td>34.29169</td>\n",
       "      <td>UA0116005</td>\n",
       "      <td>UA0116005</td>\n",
       "      <td>Dobrivska</td>\n",
       "      <td>Добрівська</td>\n",
       "      <td>Добровский</td>\n",
       "      <td>Simferopolskyi</td>\n",
       "      <td>Сімферопольський</td>\n",
       "      <td>Симферопольский</td>\n",
       "      <td>UA0116</td>\n",
       "      <td>Autonomous Republic of Crimea</td>\n",
       "      <td>Автономна Республіка Крим</td>\n",
       "      <td>Автономная Республика Крым</td>\n",
       "      <td>UA01</td>\n",
       "      <td>Ukraine</td>\n",
       "      <td>2023</td>\n",
       "      <td>1104</td>\n",
       "      <td>2023-10-14</td>\n",
       "      <td>289.232330</td>\n",
       "    </tr>\n",
       "    <tr>\n",
       "      <th>2</th>\n",
       "      <td>44.85862</td>\n",
       "      <td>34.30407</td>\n",
       "      <td>UA0116005</td>\n",
       "      <td>UA0116005</td>\n",
       "      <td>Dobrivska</td>\n",
       "      <td>Добрівська</td>\n",
       "      <td>Добровский</td>\n",
       "      <td>Simferopolskyi</td>\n",
       "      <td>Сімферопольський</td>\n",
       "      <td>Симферопольский</td>\n",
       "      <td>UA0116</td>\n",
       "      <td>Autonomous Republic of Crimea</td>\n",
       "      <td>Автономна Республіка Крим</td>\n",
       "      <td>Автономная Республика Крым</td>\n",
       "      <td>UA01</td>\n",
       "      <td>Ukraine</td>\n",
       "      <td>2023</td>\n",
       "      <td>1104</td>\n",
       "      <td>2023-10-14</td>\n",
       "      <td>60.394661</td>\n",
       "    </tr>\n",
       "    <tr>\n",
       "      <th>3</th>\n",
       "      <td>44.85981</td>\n",
       "      <td>34.29746</td>\n",
       "      <td>UA0116005</td>\n",
       "      <td>UA0116005</td>\n",
       "      <td>Dobrivska</td>\n",
       "      <td>Добрівська</td>\n",
       "      <td>Добровский</td>\n",
       "      <td>Simferopolskyi</td>\n",
       "      <td>Сімферопольський</td>\n",
       "      <td>Симферопольский</td>\n",
       "      <td>UA0116</td>\n",
       "      <td>Autonomous Republic of Crimea</td>\n",
       "      <td>Автономна Республіка Крим</td>\n",
       "      <td>Автономная Республика Крым</td>\n",
       "      <td>UA01</td>\n",
       "      <td>Ukraine</td>\n",
       "      <td>2023</td>\n",
       "      <td>1104</td>\n",
       "      <td>2023-10-14</td>\n",
       "      <td>103.530571</td>\n",
       "    </tr>\n",
       "    <tr>\n",
       "      <th>4</th>\n",
       "      <td>44.86233</td>\n",
       "      <td>34.30030</td>\n",
       "      <td>UA0116005</td>\n",
       "      <td>UA0116005</td>\n",
       "      <td>Dobrivska</td>\n",
       "      <td>Добрівська</td>\n",
       "      <td>Добровский</td>\n",
       "      <td>Simferopolskyi</td>\n",
       "      <td>Сімферопольський</td>\n",
       "      <td>Симферопольский</td>\n",
       "      <td>UA0116</td>\n",
       "      <td>Autonomous Republic of Crimea</td>\n",
       "      <td>Автономна Республіка Крим</td>\n",
       "      <td>Автономная Республика Крым</td>\n",
       "      <td>UA01</td>\n",
       "      <td>Ukraine</td>\n",
       "      <td>2023</td>\n",
       "      <td>1017</td>\n",
       "      <td>2023-10-27</td>\n",
       "      <td>60.394661</td>\n",
       "    </tr>\n",
       "  </tbody>\n",
       "</table>\n",
       "</div>"
      ],
      "text/plain": [
       "   LATITUDE  LONGITUDE ADM3_PCODE municipality       ADM3_EN         ADM3_UA  \\\n",
       "0  44.73999   34.29688  UA0120009    UA0120009  Izobilnenska  Ізобільненська   \n",
       "1  44.85680   34.29169  UA0116005    UA0116005     Dobrivska      Добрівська   \n",
       "2  44.85862   34.30407  UA0116005    UA0116005     Dobrivska      Добрівська   \n",
       "3  44.85981   34.29746  UA0116005    UA0116005     Dobrivska      Добрівська   \n",
       "4  44.86233   34.30030  UA0116005    UA0116005     Dobrivska      Добрівська   \n",
       "\n",
       "          ADM3_RU         ADM2_EN           ADM2_UA          ADM2_RU  \\\n",
       "0  Изобильненский      Yaltynskyi        Ялтинський        Ялтинский   \n",
       "1      Добровский  Simferopolskyi  Сімферопольський  Симферопольский   \n",
       "2      Добровский  Simferopolskyi  Сімферопольський  Симферопольский   \n",
       "3      Добровский  Simferopolskyi  Сімферопольський  Симферопольский   \n",
       "4      Добровский  Simferopolskyi  Сімферопольський  Симферопольский   \n",
       "\n",
       "  ADM2_PCODE                        ADM1_EN                    ADM1_UA  \\\n",
       "0     UA0120  Autonomous Republic of Crimea  Автономна Республіка Крим   \n",
       "1     UA0116  Autonomous Republic of Crimea  Автономна Республіка Крим   \n",
       "2     UA0116  Autonomous Republic of Crimea  Автономна Республіка Крим   \n",
       "3     UA0116  Autonomous Republic of Crimea  Автономна Республіка Крим   \n",
       "4     UA0116  Autonomous Republic of Crimea  Автономна Республіка Крим   \n",
       "\n",
       "                      ADM1_RU ADM1_PCODE  ADM0_EN  year  ACQ_TIME        date  \\\n",
       "0  Автономная Республика Крым       UA01  Ukraine  2023         3  2023-10-02   \n",
       "1  Автономная Республика Крым       UA01  Ukraine  2023      1104  2023-10-14   \n",
       "2  Автономная Республика Крым       UA01  Ukraine  2023      1104  2023-10-14   \n",
       "3  Автономная Республика Крым       UA01  Ukraine  2023      1104  2023-10-14   \n",
       "4  Автономная Республика Крым       UA01  Ukraine  2023      1017  2023-10-27   \n",
       "\n",
       "    pop_exact  \n",
       "0   12.081634  \n",
       "1  289.232330  \n",
       "2   60.394661  \n",
       "3  103.530571  \n",
       "4   60.394661  "
      ]
     },
     "execution_count": 45,
     "metadata": {},
     "output_type": "execute_result"
    }
   ],
   "source": [
    "war_fire_df.head()"
   ]
  },
  {
   "cell_type": "code",
   "execution_count": 46,
   "id": "d8c35cc7",
   "metadata": {},
   "outputs": [
    {
     "name": "stdout",
     "output_type": "stream",
     "text": [
      "<class 'pandas.core.frame.DataFrame'>\n",
      "RangeIndex: 68106 entries, 0 to 68105\n",
      "Data columns (total 20 columns):\n",
      " #   Column        Non-Null Count  Dtype  \n",
      "---  ------        --------------  -----  \n",
      " 0   LATITUDE      68106 non-null  float64\n",
      " 1   LONGITUDE     68106 non-null  float64\n",
      " 2   ADM3_PCODE    67946 non-null  object \n",
      " 3   municipality  67946 non-null  object \n",
      " 4   ADM3_EN       67946 non-null  object \n",
      " 5   ADM3_UA       67946 non-null  object \n",
      " 6   ADM3_RU       67946 non-null  object \n",
      " 7   ADM2_EN       67946 non-null  object \n",
      " 8   ADM2_UA       67946 non-null  object \n",
      " 9   ADM2_RU       67946 non-null  object \n",
      " 10  ADM2_PCODE    67946 non-null  object \n",
      " 11  ADM1_EN       67946 non-null  object \n",
      " 12  ADM1_UA       67946 non-null  object \n",
      " 13  ADM1_RU       67946 non-null  object \n",
      " 14  ADM1_PCODE    67946 non-null  object \n",
      " 15  ADM0_EN       67946 non-null  object \n",
      " 16  year          68106 non-null  int64  \n",
      " 17  ACQ_TIME      68106 non-null  int64  \n",
      " 18  date          68106 non-null  object \n",
      " 19  pop_exact     68106 non-null  float64\n",
      "dtypes: float64(3), int64(2), object(15)\n",
      "memory usage: 10.4+ MB\n"
     ]
    }
   ],
   "source": [
    "war_fire_df.info()"
   ]
  },
  {
   "cell_type": "markdown",
   "metadata": {},
   "source": [
    "# Building Dataset"
   ]
  },
  {
   "cell_type": "code",
   "execution_count": 47,
   "metadata": {},
   "outputs": [
    {
     "data": {
      "text/html": [
       "<div>\n",
       "<style scoped>\n",
       "    .dataframe tbody tr th:only-of-type {\n",
       "        vertical-align: middle;\n",
       "    }\n",
       "\n",
       "    .dataframe tbody tr th {\n",
       "        vertical-align: top;\n",
       "    }\n",
       "\n",
       "    .dataframe thead th {\n",
       "        text-align: right;\n",
       "    }\n",
       "</style>\n",
       "<table border=\"1\" class=\"dataframe\">\n",
       "  <thead>\n",
       "    <tr style=\"text-align: right;\">\n",
       "      <th></th>\n",
       "      <th>osm_id</th>\n",
       "      <th>buildingma</th>\n",
       "      <th>addrstreet</th>\n",
       "      <th>addrcity</th>\n",
       "      <th>building</th>\n",
       "      <th>addrhousen</th>\n",
       "      <th>office</th>\n",
       "      <th>addrfull</th>\n",
       "      <th>name</th>\n",
       "      <th>buildingle</th>\n",
       "      <th>source</th>\n",
       "      <th>geometry</th>\n",
       "    </tr>\n",
       "  </thead>\n",
       "  <tbody>\n",
       "    <tr>\n",
       "      <th>0</th>\n",
       "      <td>4338650.0</td>\n",
       "      <td>NaN</td>\n",
       "      <td>NaN</td>\n",
       "      <td>NaN</td>\n",
       "      <td>construction</td>\n",
       "      <td>NaN</td>\n",
       "      <td>NaN</td>\n",
       "      <td>NaN</td>\n",
       "      <td>Льодовий стадіон</td>\n",
       "      <td>5</td>\n",
       "      <td>NaN</td>\n",
       "      <td>POLYGON ((30.4658704 50.3739959, 30.4672303 50...</td>\n",
       "    </tr>\n",
       "    <tr>\n",
       "      <th>1</th>\n",
       "      <td>4528325.0</td>\n",
       "      <td>NaN</td>\n",
       "      <td>NaN</td>\n",
       "      <td>NaN</td>\n",
       "      <td>yes</td>\n",
       "      <td>NaN</td>\n",
       "      <td>NaN</td>\n",
       "      <td>NaN</td>\n",
       "      <td>NaN</td>\n",
       "      <td>NaN</td>\n",
       "      <td>NaN</td>\n",
       "      <td>POLYGON ((35.4149579 45.3275258, 35.4150137 45...</td>\n",
       "    </tr>\n",
       "    <tr>\n",
       "      <th>2</th>\n",
       "      <td>4528616.0</td>\n",
       "      <td>NaN</td>\n",
       "      <td>NaN</td>\n",
       "      <td>NaN</td>\n",
       "      <td>yes</td>\n",
       "      <td>NaN</td>\n",
       "      <td>NaN</td>\n",
       "      <td>NaN</td>\n",
       "      <td>NaN</td>\n",
       "      <td>NaN</td>\n",
       "      <td>NaN</td>\n",
       "      <td>POLYGON ((35.4150689 45.3277749, 35.4151686 45...</td>\n",
       "    </tr>\n",
       "    <tr>\n",
       "      <th>3</th>\n",
       "      <td>4528933.0</td>\n",
       "      <td>NaN</td>\n",
       "      <td>NaN</td>\n",
       "      <td>NaN</td>\n",
       "      <td>yes</td>\n",
       "      <td>NaN</td>\n",
       "      <td>NaN</td>\n",
       "      <td>NaN</td>\n",
       "      <td>NaN</td>\n",
       "      <td>NaN</td>\n",
       "      <td>NaN</td>\n",
       "      <td>POLYGON ((35.4122859 45.3309186, 35.4123139 45...</td>\n",
       "    </tr>\n",
       "    <tr>\n",
       "      <th>4</th>\n",
       "      <td>4529198.0</td>\n",
       "      <td>NaN</td>\n",
       "      <td>NaN</td>\n",
       "      <td>NaN</td>\n",
       "      <td>yes</td>\n",
       "      <td>NaN</td>\n",
       "      <td>NaN</td>\n",
       "      <td>NaN</td>\n",
       "      <td>NaN</td>\n",
       "      <td>NaN</td>\n",
       "      <td>NaN</td>\n",
       "      <td>POLYGON ((33.7198442 44.4086498, 33.720139 44....</td>\n",
       "    </tr>\n",
       "  </tbody>\n",
       "</table>\n",
       "</div>"
      ],
      "text/plain": [
       "      osm_id  buildingma addrstreet addrcity      building addrhousen office  \\\n",
       "0  4338650.0         NaN        NaN      NaN  construction        NaN    NaN   \n",
       "1  4528325.0         NaN        NaN      NaN           yes        NaN    NaN   \n",
       "2  4528616.0         NaN        NaN      NaN           yes        NaN    NaN   \n",
       "3  4528933.0         NaN        NaN      NaN           yes        NaN    NaN   \n",
       "4  4529198.0         NaN        NaN      NaN           yes        NaN    NaN   \n",
       "\n",
       "  addrfull              name buildingle source  \\\n",
       "0      NaN  Льодовий стадіон          5    NaN   \n",
       "1      NaN               NaN        NaN    NaN   \n",
       "2      NaN               NaN        NaN    NaN   \n",
       "3      NaN               NaN        NaN    NaN   \n",
       "4      NaN               NaN        NaN    NaN   \n",
       "\n",
       "                                            geometry  \n",
       "0  POLYGON ((30.4658704 50.3739959, 30.4672303 50...  \n",
       "1  POLYGON ((35.4149579 45.3275258, 35.4150137 45...  \n",
       "2  POLYGON ((35.4150689 45.3277749, 35.4151686 45...  \n",
       "3  POLYGON ((35.4122859 45.3309186, 35.4123139 45...  \n",
       "4  POLYGON ((33.7198442 44.4086498, 33.720139 44....  "
      ]
     },
     "execution_count": 47,
     "metadata": {},
     "output_type": "execute_result"
    }
   ],
   "source": [
    "output_df.head()"
   ]
  },
  {
   "cell_type": "code",
   "execution_count": 48,
   "metadata": {},
   "outputs": [
    {
     "name": "stdout",
     "output_type": "stream",
     "text": [
      "<class 'pandas.core.frame.DataFrame'>\n",
      "RangeIndex: 6018387 entries, 0 to 6018386\n",
      "Data columns (total 12 columns):\n",
      " #   Column      Dtype  \n",
      "---  ------      -----  \n",
      " 0   osm_id      float64\n",
      " 1   buildingma  float64\n",
      " 2   addrstreet  object \n",
      " 3   addrcity    object \n",
      " 4   building    object \n",
      " 5   addrhousen  object \n",
      " 6   office      object \n",
      " 7   addrfull    object \n",
      " 8   name        object \n",
      " 9   buildingle  object \n",
      " 10  source      object \n",
      " 11  geometry    object \n",
      "dtypes: float64(2), object(10)\n",
      "memory usage: 551.0+ MB\n"
     ]
    }
   ],
   "source": [
    "output_df.info()"
   ]
  },
  {
   "cell_type": "markdown",
   "id": "a74eacdf",
   "metadata": {},
   "source": [
    "# Reverse locate"
   ]
  },
  {
   "cell_type": "code",
   "execution_count": 49,
   "id": "9d38b39c",
   "metadata": {},
   "outputs": [
    {
     "data": {
      "application/vnd.jupyter.widget-view+json": {
       "model_id": "a3f6bd466a5f4462931e1f688409ebca",
       "version_major": 2,
       "version_minor": 0
      },
      "text/plain": [
       "  0%|          | 0/1000 [00:00<?, ?it/s]"
      ]
     },
     "metadata": {},
     "output_type": "display_data"
    },
    {
     "ename": "KeyboardInterrupt",
     "evalue": "",
     "output_type": "error",
     "traceback": [
      "\u001b[0;31m---------------------------------------------------------------------------\u001b[0m",
      "\u001b[0;31mKeyboardInterrupt\u001b[0m                         Traceback (most recent call last)",
      "\u001b[1;32m/Users/harryhopalot/Documents/GitHub/dssd_Insulate_ukraine/notebooks/24_01_22-hh-buildings_impacted_by_war_fires.ipynb Cell 12\u001b[0m line \u001b[0;36m7\n\u001b[1;32m      <a href='vscode-notebook-cell:/Users/harryhopalot/Documents/GitHub/dssd_Insulate_ukraine/notebooks/24_01_22-hh-buildings_impacted_by_war_fires.ipynb#X15sZmlsZQ%3D%3D?line=4'>5</a>\u001b[0m \u001b[39m# Write the same code but add tqdm to see the progress of the loop\u001b[39;00m\n\u001b[1;32m      <a href='vscode-notebook-cell:/Users/harryhopalot/Documents/GitHub/dssd_Insulate_ukraine/notebooks/24_01_22-hh-buildings_impacted_by_war_fires.ipynb#X15sZmlsZQ%3D%3D?line=5'>6</a>\u001b[0m \u001b[39mfor\u001b[39;00m idx, row \u001b[39min\u001b[39;00m tqdm(war_fire_df\u001b[39m.\u001b[39miterrows(), total\u001b[39m=\u001b[39mwar_fire_df\u001b[39m.\u001b[39mshape[\u001b[39m0\u001b[39m]):\n\u001b[0;32m----> <a href='vscode-notebook-cell:/Users/harryhopalot/Documents/GitHub/dssd_Insulate_ukraine/notebooks/24_01_22-hh-buildings_impacted_by_war_fires.ipynb#X15sZmlsZQ%3D%3D?line=6'>7</a>\u001b[0m     war_fire_df\u001b[39m.\u001b[39mloc[war_fire_df\u001b[39m.\u001b[39mindex[idx], \u001b[39m'\u001b[39m\u001b[39mstate\u001b[39m\u001b[39m'\u001b[39m] \u001b[39m=\u001b[39m make_dataset\u001b[39m.\u001b[39;49mfind_states(row)\n",
      "File \u001b[0;32m~/Documents/GitHub/dssd_Insulate_ukraine/src/data/make_dataset.py:112\u001b[0m, in \u001b[0;36mfind_states\u001b[0;34m(row)\u001b[0m\n\u001b[1;32m    109\u001b[0m lat, lon \u001b[39m=\u001b[39m row[\u001b[39m\"\u001b[39m\u001b[39mLATITUDE\u001b[39m\u001b[39m\"\u001b[39m], row[\u001b[39m\"\u001b[39m\u001b[39mLONGITUDE\u001b[39m\u001b[39m\"\u001b[39m]\n\u001b[1;32m    111\u001b[0m cord \u001b[39m=\u001b[39m \u001b[39mf\u001b[39m\u001b[39m\"\u001b[39m\u001b[39m{\u001b[39;00mlat\u001b[39m}\u001b[39;00m\u001b[39m, \u001b[39m\u001b[39m{\u001b[39;00mlon\u001b[39m}\u001b[39;00m\u001b[39m\"\u001b[39m\n\u001b[0;32m--> 112\u001b[0m location \u001b[39m=\u001b[39m geolocator\u001b[39m.\u001b[39;49mreverse(cord, exactly_one\u001b[39m=\u001b[39;49m\u001b[39mTrue\u001b[39;49;00m,language\u001b[39m=\u001b[39;49m\u001b[39m\"\u001b[39;49m\u001b[39men\u001b[39;49m\u001b[39m\"\u001b[39;49m)\n\u001b[1;32m    113\u001b[0m address \u001b[39m=\u001b[39m location\u001b[39m.\u001b[39mraw[\u001b[39m'\u001b[39m\u001b[39maddress\u001b[39m\u001b[39m'\u001b[39m]\n\u001b[1;32m    114\u001b[0m state \u001b[39m=\u001b[39m address\u001b[39m.\u001b[39mget(\u001b[39m'\u001b[39m\u001b[39mstate\u001b[39m\u001b[39m'\u001b[39m, \u001b[39m'\u001b[39m\u001b[39m'\u001b[39m)\n",
      "File \u001b[0;32m~/Documents/GitHub/dssd_Insulate_ukraine/.venv/lib/python3.11/site-packages/geopy/geocoders/nominatim.py:372\u001b[0m, in \u001b[0;36mNominatim.reverse\u001b[0;34m(self, query, exactly_one, timeout, language, addressdetails, zoom, namedetails)\u001b[0m\n\u001b[1;32m    370\u001b[0m logger\u001b[39m.\u001b[39mdebug(\u001b[39m\"\u001b[39m\u001b[39m%s\u001b[39;00m\u001b[39m.reverse: \u001b[39m\u001b[39m%s\u001b[39;00m\u001b[39m\"\u001b[39m, \u001b[39mself\u001b[39m\u001b[39m.\u001b[39m\u001b[39m__class__\u001b[39m\u001b[39m.\u001b[39m\u001b[39m__name__\u001b[39m, url)\n\u001b[1;32m    371\u001b[0m callback \u001b[39m=\u001b[39m partial(\u001b[39mself\u001b[39m\u001b[39m.\u001b[39m_parse_json, exactly_one\u001b[39m=\u001b[39mexactly_one)\n\u001b[0;32m--> 372\u001b[0m \u001b[39mreturn\u001b[39;00m \u001b[39mself\u001b[39;49m\u001b[39m.\u001b[39;49m_call_geocoder(url, callback, timeout\u001b[39m=\u001b[39;49mtimeout)\n",
      "File \u001b[0;32m~/Documents/GitHub/dssd_Insulate_ukraine/.venv/lib/python3.11/site-packages/geopy/geocoders/base.py:368\u001b[0m, in \u001b[0;36mGeocoder._call_geocoder\u001b[0;34m(self, url, callback, timeout, is_json, headers)\u001b[0m\n\u001b[1;32m    366\u001b[0m \u001b[39mtry\u001b[39;00m:\n\u001b[1;32m    367\u001b[0m     \u001b[39mif\u001b[39;00m is_json:\n\u001b[0;32m--> 368\u001b[0m         result \u001b[39m=\u001b[39m \u001b[39mself\u001b[39;49m\u001b[39m.\u001b[39;49madapter\u001b[39m.\u001b[39;49mget_json(url, timeout\u001b[39m=\u001b[39;49mtimeout, headers\u001b[39m=\u001b[39;49mreq_headers)\n\u001b[1;32m    369\u001b[0m     \u001b[39melse\u001b[39;00m:\n\u001b[1;32m    370\u001b[0m         result \u001b[39m=\u001b[39m \u001b[39mself\u001b[39m\u001b[39m.\u001b[39madapter\u001b[39m.\u001b[39mget_text(url, timeout\u001b[39m=\u001b[39mtimeout, headers\u001b[39m=\u001b[39mreq_headers)\n",
      "File \u001b[0;32m~/Documents/GitHub/dssd_Insulate_ukraine/.venv/lib/python3.11/site-packages/geopy/adapters.py:472\u001b[0m, in \u001b[0;36mRequestsAdapter.get_json\u001b[0;34m(self, url, timeout, headers)\u001b[0m\n\u001b[1;32m    471\u001b[0m \u001b[39mdef\u001b[39;00m \u001b[39mget_json\u001b[39m(\u001b[39mself\u001b[39m, url, \u001b[39m*\u001b[39m, timeout, headers):\n\u001b[0;32m--> 472\u001b[0m     resp \u001b[39m=\u001b[39m \u001b[39mself\u001b[39;49m\u001b[39m.\u001b[39;49m_request(url, timeout\u001b[39m=\u001b[39;49mtimeout, headers\u001b[39m=\u001b[39;49mheaders)\n\u001b[1;32m    473\u001b[0m     \u001b[39mtry\u001b[39;00m:\n\u001b[1;32m    474\u001b[0m         \u001b[39mreturn\u001b[39;00m resp\u001b[39m.\u001b[39mjson()\n",
      "File \u001b[0;32m~/Documents/GitHub/dssd_Insulate_ukraine/.venv/lib/python3.11/site-packages/geopy/adapters.py:482\u001b[0m, in \u001b[0;36mRequestsAdapter._request\u001b[0;34m(self, url, timeout, headers)\u001b[0m\n\u001b[1;32m    480\u001b[0m \u001b[39mdef\u001b[39;00m \u001b[39m_request\u001b[39m(\u001b[39mself\u001b[39m, url, \u001b[39m*\u001b[39m, timeout, headers):\n\u001b[1;32m    481\u001b[0m     \u001b[39mtry\u001b[39;00m:\n\u001b[0;32m--> 482\u001b[0m         resp \u001b[39m=\u001b[39m \u001b[39mself\u001b[39;49m\u001b[39m.\u001b[39;49msession\u001b[39m.\u001b[39;49mget(url, timeout\u001b[39m=\u001b[39;49mtimeout, headers\u001b[39m=\u001b[39;49mheaders)\n\u001b[1;32m    483\u001b[0m     \u001b[39mexcept\u001b[39;00m \u001b[39mException\u001b[39;00m \u001b[39mas\u001b[39;00m error:\n\u001b[1;32m    484\u001b[0m         message \u001b[39m=\u001b[39m \u001b[39mstr\u001b[39m(error)\n",
      "File \u001b[0;32m~/Documents/GitHub/dssd_Insulate_ukraine/.venv/lib/python3.11/site-packages/requests/sessions.py:602\u001b[0m, in \u001b[0;36mSession.get\u001b[0;34m(self, url, **kwargs)\u001b[0m\n\u001b[1;32m    594\u001b[0m \u001b[39m\u001b[39m\u001b[39mr\u001b[39m\u001b[39m\"\"\"Sends a GET request. Returns :class:`Response` object.\u001b[39;00m\n\u001b[1;32m    595\u001b[0m \n\u001b[1;32m    596\u001b[0m \u001b[39m:param url: URL for the new :class:`Request` object.\u001b[39;00m\n\u001b[1;32m    597\u001b[0m \u001b[39m:param \\*\\*kwargs: Optional arguments that ``request`` takes.\u001b[39;00m\n\u001b[1;32m    598\u001b[0m \u001b[39m:rtype: requests.Response\u001b[39;00m\n\u001b[1;32m    599\u001b[0m \u001b[39m\"\"\"\u001b[39;00m\n\u001b[1;32m    601\u001b[0m kwargs\u001b[39m.\u001b[39msetdefault(\u001b[39m\"\u001b[39m\u001b[39mallow_redirects\u001b[39m\u001b[39m\"\u001b[39m, \u001b[39mTrue\u001b[39;00m)\n\u001b[0;32m--> 602\u001b[0m \u001b[39mreturn\u001b[39;00m \u001b[39mself\u001b[39;49m\u001b[39m.\u001b[39;49mrequest(\u001b[39m\"\u001b[39;49m\u001b[39mGET\u001b[39;49m\u001b[39m\"\u001b[39;49m, url, \u001b[39m*\u001b[39;49m\u001b[39m*\u001b[39;49mkwargs)\n",
      "File \u001b[0;32m~/Documents/GitHub/dssd_Insulate_ukraine/.venv/lib/python3.11/site-packages/requests/sessions.py:589\u001b[0m, in \u001b[0;36mSession.request\u001b[0;34m(self, method, url, params, data, headers, cookies, files, auth, timeout, allow_redirects, proxies, hooks, stream, verify, cert, json)\u001b[0m\n\u001b[1;32m    584\u001b[0m send_kwargs \u001b[39m=\u001b[39m {\n\u001b[1;32m    585\u001b[0m     \u001b[39m\"\u001b[39m\u001b[39mtimeout\u001b[39m\u001b[39m\"\u001b[39m: timeout,\n\u001b[1;32m    586\u001b[0m     \u001b[39m\"\u001b[39m\u001b[39mallow_redirects\u001b[39m\u001b[39m\"\u001b[39m: allow_redirects,\n\u001b[1;32m    587\u001b[0m }\n\u001b[1;32m    588\u001b[0m send_kwargs\u001b[39m.\u001b[39mupdate(settings)\n\u001b[0;32m--> 589\u001b[0m resp \u001b[39m=\u001b[39m \u001b[39mself\u001b[39;49m\u001b[39m.\u001b[39;49msend(prep, \u001b[39m*\u001b[39;49m\u001b[39m*\u001b[39;49msend_kwargs)\n\u001b[1;32m    591\u001b[0m \u001b[39mreturn\u001b[39;00m resp\n",
      "File \u001b[0;32m~/Documents/GitHub/dssd_Insulate_ukraine/.venv/lib/python3.11/site-packages/requests/sessions.py:703\u001b[0m, in \u001b[0;36mSession.send\u001b[0;34m(self, request, **kwargs)\u001b[0m\n\u001b[1;32m    700\u001b[0m start \u001b[39m=\u001b[39m preferred_clock()\n\u001b[1;32m    702\u001b[0m \u001b[39m# Send the request\u001b[39;00m\n\u001b[0;32m--> 703\u001b[0m r \u001b[39m=\u001b[39m adapter\u001b[39m.\u001b[39;49msend(request, \u001b[39m*\u001b[39;49m\u001b[39m*\u001b[39;49mkwargs)\n\u001b[1;32m    705\u001b[0m \u001b[39m# Total elapsed time of the request (approximately)\u001b[39;00m\n\u001b[1;32m    706\u001b[0m elapsed \u001b[39m=\u001b[39m preferred_clock() \u001b[39m-\u001b[39m start\n",
      "File \u001b[0;32m~/Documents/GitHub/dssd_Insulate_ukraine/.venv/lib/python3.11/site-packages/requests/adapters.py:486\u001b[0m, in \u001b[0;36mHTTPAdapter.send\u001b[0;34m(self, request, stream, timeout, verify, cert, proxies)\u001b[0m\n\u001b[1;32m    483\u001b[0m     timeout \u001b[39m=\u001b[39m TimeoutSauce(connect\u001b[39m=\u001b[39mtimeout, read\u001b[39m=\u001b[39mtimeout)\n\u001b[1;32m    485\u001b[0m \u001b[39mtry\u001b[39;00m:\n\u001b[0;32m--> 486\u001b[0m     resp \u001b[39m=\u001b[39m conn\u001b[39m.\u001b[39;49murlopen(\n\u001b[1;32m    487\u001b[0m         method\u001b[39m=\u001b[39;49mrequest\u001b[39m.\u001b[39;49mmethod,\n\u001b[1;32m    488\u001b[0m         url\u001b[39m=\u001b[39;49murl,\n\u001b[1;32m    489\u001b[0m         body\u001b[39m=\u001b[39;49mrequest\u001b[39m.\u001b[39;49mbody,\n\u001b[1;32m    490\u001b[0m         headers\u001b[39m=\u001b[39;49mrequest\u001b[39m.\u001b[39;49mheaders,\n\u001b[1;32m    491\u001b[0m         redirect\u001b[39m=\u001b[39;49m\u001b[39mFalse\u001b[39;49;00m,\n\u001b[1;32m    492\u001b[0m         assert_same_host\u001b[39m=\u001b[39;49m\u001b[39mFalse\u001b[39;49;00m,\n\u001b[1;32m    493\u001b[0m         preload_content\u001b[39m=\u001b[39;49m\u001b[39mFalse\u001b[39;49;00m,\n\u001b[1;32m    494\u001b[0m         decode_content\u001b[39m=\u001b[39;49m\u001b[39mFalse\u001b[39;49;00m,\n\u001b[1;32m    495\u001b[0m         retries\u001b[39m=\u001b[39;49m\u001b[39mself\u001b[39;49m\u001b[39m.\u001b[39;49mmax_retries,\n\u001b[1;32m    496\u001b[0m         timeout\u001b[39m=\u001b[39;49mtimeout,\n\u001b[1;32m    497\u001b[0m         chunked\u001b[39m=\u001b[39;49mchunked,\n\u001b[1;32m    498\u001b[0m     )\n\u001b[1;32m    500\u001b[0m \u001b[39mexcept\u001b[39;00m (ProtocolError, \u001b[39mOSError\u001b[39;00m) \u001b[39mas\u001b[39;00m err:\n\u001b[1;32m    501\u001b[0m     \u001b[39mraise\u001b[39;00m \u001b[39mConnectionError\u001b[39;00m(err, request\u001b[39m=\u001b[39mrequest)\n",
      "File \u001b[0;32m~/Documents/GitHub/dssd_Insulate_ukraine/.venv/lib/python3.11/site-packages/urllib3/connectionpool.py:670\u001b[0m, in \u001b[0;36mHTTPConnectionPool.urlopen\u001b[0;34m(self, method, url, body, headers, retries, redirect, assert_same_host, timeout, pool_timeout, release_conn, chunked, body_pos, **response_kw)\u001b[0m\n\u001b[1;32m    667\u001b[0m     \u001b[39mself\u001b[39m\u001b[39m.\u001b[39m_prepare_proxy(conn)\n\u001b[1;32m    669\u001b[0m \u001b[39m# Make the request on the httplib connection object.\u001b[39;00m\n\u001b[0;32m--> 670\u001b[0m httplib_response \u001b[39m=\u001b[39m \u001b[39mself\u001b[39;49m\u001b[39m.\u001b[39;49m_make_request(\n\u001b[1;32m    671\u001b[0m     conn,\n\u001b[1;32m    672\u001b[0m     method,\n\u001b[1;32m    673\u001b[0m     url,\n\u001b[1;32m    674\u001b[0m     timeout\u001b[39m=\u001b[39;49mtimeout_obj,\n\u001b[1;32m    675\u001b[0m     body\u001b[39m=\u001b[39;49mbody,\n\u001b[1;32m    676\u001b[0m     headers\u001b[39m=\u001b[39;49mheaders,\n\u001b[1;32m    677\u001b[0m     chunked\u001b[39m=\u001b[39;49mchunked,\n\u001b[1;32m    678\u001b[0m )\n\u001b[1;32m    680\u001b[0m \u001b[39m# If we're going to release the connection in ``finally:``, then\u001b[39;00m\n\u001b[1;32m    681\u001b[0m \u001b[39m# the response doesn't need to know about the connection. Otherwise\u001b[39;00m\n\u001b[1;32m    682\u001b[0m \u001b[39m# it will also try to release it and we'll have a double-release\u001b[39;00m\n\u001b[1;32m    683\u001b[0m \u001b[39m# mess.\u001b[39;00m\n\u001b[1;32m    684\u001b[0m response_conn \u001b[39m=\u001b[39m conn \u001b[39mif\u001b[39;00m \u001b[39mnot\u001b[39;00m release_conn \u001b[39melse\u001b[39;00m \u001b[39mNone\u001b[39;00m\n",
      "File \u001b[0;32m~/Documents/GitHub/dssd_Insulate_ukraine/.venv/lib/python3.11/site-packages/urllib3/connectionpool.py:426\u001b[0m, in \u001b[0;36mHTTPConnectionPool._make_request\u001b[0;34m(self, conn, method, url, timeout, chunked, **httplib_request_kw)\u001b[0m\n\u001b[1;32m    421\u001b[0m             httplib_response \u001b[39m=\u001b[39m conn\u001b[39m.\u001b[39mgetresponse()\n\u001b[1;32m    422\u001b[0m         \u001b[39mexcept\u001b[39;00m \u001b[39mBaseException\u001b[39;00m \u001b[39mas\u001b[39;00m e:\n\u001b[1;32m    423\u001b[0m             \u001b[39m# Remove the TypeError from the exception chain in\u001b[39;00m\n\u001b[1;32m    424\u001b[0m             \u001b[39m# Python 3 (including for exceptions like SystemExit).\u001b[39;00m\n\u001b[1;32m    425\u001b[0m             \u001b[39m# Otherwise it looks like a bug in the code.\u001b[39;00m\n\u001b[0;32m--> 426\u001b[0m             six\u001b[39m.\u001b[39;49mraise_from(e, \u001b[39mNone\u001b[39;49;00m)\n\u001b[1;32m    427\u001b[0m \u001b[39mexcept\u001b[39;00m (SocketTimeout, BaseSSLError, SocketError) \u001b[39mas\u001b[39;00m e:\n\u001b[1;32m    428\u001b[0m     \u001b[39mself\u001b[39m\u001b[39m.\u001b[39m_raise_timeout(err\u001b[39m=\u001b[39me, url\u001b[39m=\u001b[39murl, timeout_value\u001b[39m=\u001b[39mread_timeout)\n",
      "File \u001b[0;32m<string>:3\u001b[0m, in \u001b[0;36mraise_from\u001b[0;34m(value, from_value)\u001b[0m\n",
      "File \u001b[0;32m~/Documents/GitHub/dssd_Insulate_ukraine/.venv/lib/python3.11/site-packages/urllib3/connectionpool.py:421\u001b[0m, in \u001b[0;36mHTTPConnectionPool._make_request\u001b[0;34m(self, conn, method, url, timeout, chunked, **httplib_request_kw)\u001b[0m\n\u001b[1;32m    418\u001b[0m \u001b[39mexcept\u001b[39;00m \u001b[39mTypeError\u001b[39;00m:\n\u001b[1;32m    419\u001b[0m     \u001b[39m# Python 3\u001b[39;00m\n\u001b[1;32m    420\u001b[0m     \u001b[39mtry\u001b[39;00m:\n\u001b[0;32m--> 421\u001b[0m         httplib_response \u001b[39m=\u001b[39m conn\u001b[39m.\u001b[39;49mgetresponse()\n\u001b[1;32m    422\u001b[0m     \u001b[39mexcept\u001b[39;00m \u001b[39mBaseException\u001b[39;00m \u001b[39mas\u001b[39;00m e:\n\u001b[1;32m    423\u001b[0m         \u001b[39m# Remove the TypeError from the exception chain in\u001b[39;00m\n\u001b[1;32m    424\u001b[0m         \u001b[39m# Python 3 (including for exceptions like SystemExit).\u001b[39;00m\n\u001b[1;32m    425\u001b[0m         \u001b[39m# Otherwise it looks like a bug in the code.\u001b[39;00m\n\u001b[1;32m    426\u001b[0m         six\u001b[39m.\u001b[39mraise_from(e, \u001b[39mNone\u001b[39;00m)\n",
      "File \u001b[0;32m/opt/homebrew/Cellar/python@3.11/3.11.4_1/Frameworks/Python.framework/Versions/3.11/lib/python3.11/http/client.py:1378\u001b[0m, in \u001b[0;36mHTTPConnection.getresponse\u001b[0;34m(self)\u001b[0m\n\u001b[1;32m   1376\u001b[0m \u001b[39mtry\u001b[39;00m:\n\u001b[1;32m   1377\u001b[0m     \u001b[39mtry\u001b[39;00m:\n\u001b[0;32m-> 1378\u001b[0m         response\u001b[39m.\u001b[39;49mbegin()\n\u001b[1;32m   1379\u001b[0m     \u001b[39mexcept\u001b[39;00m \u001b[39mConnectionError\u001b[39;00m:\n\u001b[1;32m   1380\u001b[0m         \u001b[39mself\u001b[39m\u001b[39m.\u001b[39mclose()\n",
      "File \u001b[0;32m/opt/homebrew/Cellar/python@3.11/3.11.4_1/Frameworks/Python.framework/Versions/3.11/lib/python3.11/http/client.py:318\u001b[0m, in \u001b[0;36mHTTPResponse.begin\u001b[0;34m(self)\u001b[0m\n\u001b[1;32m    316\u001b[0m \u001b[39m# read until we get a non-100 response\u001b[39;00m\n\u001b[1;32m    317\u001b[0m \u001b[39mwhile\u001b[39;00m \u001b[39mTrue\u001b[39;00m:\n\u001b[0;32m--> 318\u001b[0m     version, status, reason \u001b[39m=\u001b[39m \u001b[39mself\u001b[39;49m\u001b[39m.\u001b[39;49m_read_status()\n\u001b[1;32m    319\u001b[0m     \u001b[39mif\u001b[39;00m status \u001b[39m!=\u001b[39m CONTINUE:\n\u001b[1;32m    320\u001b[0m         \u001b[39mbreak\u001b[39;00m\n",
      "File \u001b[0;32m/opt/homebrew/Cellar/python@3.11/3.11.4_1/Frameworks/Python.framework/Versions/3.11/lib/python3.11/http/client.py:279\u001b[0m, in \u001b[0;36mHTTPResponse._read_status\u001b[0;34m(self)\u001b[0m\n\u001b[1;32m    278\u001b[0m \u001b[39mdef\u001b[39;00m \u001b[39m_read_status\u001b[39m(\u001b[39mself\u001b[39m):\n\u001b[0;32m--> 279\u001b[0m     line \u001b[39m=\u001b[39m \u001b[39mstr\u001b[39m(\u001b[39mself\u001b[39m\u001b[39m.\u001b[39mfp\u001b[39m.\u001b[39mreadline(_MAXLINE \u001b[39m+\u001b[39m \u001b[39m1\u001b[39m), \u001b[39m\"\u001b[39m\u001b[39miso-8859-1\u001b[39m\u001b[39m\"\u001b[39m)\n\u001b[1;32m    280\u001b[0m     \u001b[39mif\u001b[39;00m \u001b[39mlen\u001b[39m(line) \u001b[39m>\u001b[39m _MAXLINE:\n\u001b[1;32m    281\u001b[0m         \u001b[39mraise\u001b[39;00m LineTooLong(\u001b[39m\"\u001b[39m\u001b[39mstatus line\u001b[39m\u001b[39m\"\u001b[39m)\n",
      "File \u001b[0;32m/opt/homebrew/Cellar/python@3.11/3.11.4_1/Frameworks/Python.framework/Versions/3.11/lib/python3.11/socket.py:706\u001b[0m, in \u001b[0;36mSocketIO.readinto\u001b[0;34m(self, b)\u001b[0m\n\u001b[1;32m    704\u001b[0m \u001b[39mwhile\u001b[39;00m \u001b[39mTrue\u001b[39;00m:\n\u001b[1;32m    705\u001b[0m     \u001b[39mtry\u001b[39;00m:\n\u001b[0;32m--> 706\u001b[0m         \u001b[39mreturn\u001b[39;00m \u001b[39mself\u001b[39;49m\u001b[39m.\u001b[39;49m_sock\u001b[39m.\u001b[39;49mrecv_into(b)\n\u001b[1;32m    707\u001b[0m     \u001b[39mexcept\u001b[39;00m timeout:\n\u001b[1;32m    708\u001b[0m         \u001b[39mself\u001b[39m\u001b[39m.\u001b[39m_timeout_occurred \u001b[39m=\u001b[39m \u001b[39mTrue\u001b[39;00m\n",
      "File \u001b[0;32m/opt/homebrew/Cellar/python@3.11/3.11.4_1/Frameworks/Python.framework/Versions/3.11/lib/python3.11/ssl.py:1278\u001b[0m, in \u001b[0;36mSSLSocket.recv_into\u001b[0;34m(self, buffer, nbytes, flags)\u001b[0m\n\u001b[1;32m   1274\u001b[0m     \u001b[39mif\u001b[39;00m flags \u001b[39m!=\u001b[39m \u001b[39m0\u001b[39m:\n\u001b[1;32m   1275\u001b[0m         \u001b[39mraise\u001b[39;00m \u001b[39mValueError\u001b[39;00m(\n\u001b[1;32m   1276\u001b[0m           \u001b[39m\"\u001b[39m\u001b[39mnon-zero flags not allowed in calls to recv_into() on \u001b[39m\u001b[39m%s\u001b[39;00m\u001b[39m\"\u001b[39m \u001b[39m%\u001b[39m\n\u001b[1;32m   1277\u001b[0m           \u001b[39mself\u001b[39m\u001b[39m.\u001b[39m\u001b[39m__class__\u001b[39m)\n\u001b[0;32m-> 1278\u001b[0m     \u001b[39mreturn\u001b[39;00m \u001b[39mself\u001b[39;49m\u001b[39m.\u001b[39;49mread(nbytes, buffer)\n\u001b[1;32m   1279\u001b[0m \u001b[39melse\u001b[39;00m:\n\u001b[1;32m   1280\u001b[0m     \u001b[39mreturn\u001b[39;00m \u001b[39msuper\u001b[39m()\u001b[39m.\u001b[39mrecv_into(buffer, nbytes, flags)\n",
      "File \u001b[0;32m/opt/homebrew/Cellar/python@3.11/3.11.4_1/Frameworks/Python.framework/Versions/3.11/lib/python3.11/ssl.py:1134\u001b[0m, in \u001b[0;36mSSLSocket.read\u001b[0;34m(self, len, buffer)\u001b[0m\n\u001b[1;32m   1132\u001b[0m \u001b[39mtry\u001b[39;00m:\n\u001b[1;32m   1133\u001b[0m     \u001b[39mif\u001b[39;00m buffer \u001b[39mis\u001b[39;00m \u001b[39mnot\u001b[39;00m \u001b[39mNone\u001b[39;00m:\n\u001b[0;32m-> 1134\u001b[0m         \u001b[39mreturn\u001b[39;00m \u001b[39mself\u001b[39;49m\u001b[39m.\u001b[39;49m_sslobj\u001b[39m.\u001b[39;49mread(\u001b[39mlen\u001b[39;49m, buffer)\n\u001b[1;32m   1135\u001b[0m     \u001b[39melse\u001b[39;00m:\n\u001b[1;32m   1136\u001b[0m         \u001b[39mreturn\u001b[39;00m \u001b[39mself\u001b[39m\u001b[39m.\u001b[39m_sslobj\u001b[39m.\u001b[39mread(\u001b[39mlen\u001b[39m)\n",
      "\u001b[0;31mKeyboardInterrupt\u001b[0m: "
     ]
    }
   ],
   "source": [
    "# If DEVELOPMENT is True, only run on first 100 rows\n",
    "if DEVELOPMENT:\n",
    "    war_fire_df = war_fire_df[:1000]\n",
    "\n",
    "# Write the same code but add tqdm to see the progress of the loop\n",
    "for idx, row in tqdm(war_fire_df.iterrows(), total=war_fire_df.shape[0]):\n",
    "    war_fire_df.loc[war_fire_df.index[idx], 'state'] = make_dataset.find_states(row)"
   ]
  },
  {
   "cell_type": "code",
   "execution_count": null,
   "id": "e2d61534",
   "metadata": {},
   "outputs": [
    {
     "data": {
      "text/plain": [
       "state\n",
       "Odesa Oblast                     465\n",
       "Autonomous Republic of Crimea    309\n",
       "Republic of Crimea               194\n",
       "Kherson Oblast                    18\n",
       "                                  14\n",
       "Name: count, dtype: int64"
      ]
     },
     "execution_count": 9,
     "metadata": {},
     "output_type": "execute_result"
    }
   ],
   "source": [
    "war_fire_df[\"state\"].value_counts()"
   ]
  },
  {
   "cell_type": "code",
   "execution_count": null,
   "id": "ed9813dd",
   "metadata": {},
   "outputs": [],
   "source": [
    "# Saving the war fire model back to a file\n",
    "war_fire_df.to_csv(\"./data/processed/ukraine_war_fires_with_state_lookup.csv\", index=False)"
   ]
  },
  {
   "cell_type": "code",
   "execution_count": null,
   "id": "6c5bd116",
   "metadata": {},
   "outputs": [
    {
     "data": {
      "text/plain": [
       "state\n",
       "Odesa Oblast                     465\n",
       "Autonomous Republic of Crimea    309\n",
       "Republic of Crimea               194\n",
       "Kherson Oblast                    18\n",
       "Name: count, dtype: int64"
      ]
     },
     "execution_count": 11,
     "metadata": {},
     "output_type": "execute_result"
    }
   ],
   "source": [
    "# Read processed war fire data\n",
    "war_fire_df = pd.read_csv(\"./data/processed/ukraine_war_fires_with_state_lookup.csv\")\n",
    "war_fire_df[\"state\"].value_counts()"
   ]
  },
  {
   "cell_type": "code",
   "execution_count": null,
   "id": "51aa6428",
   "metadata": {},
   "outputs": [
    {
     "data": {
      "text/html": [
       "<div>\n",
       "<style scoped>\n",
       "    .dataframe tbody tr th:only-of-type {\n",
       "        vertical-align: middle;\n",
       "    }\n",
       "\n",
       "    .dataframe tbody tr th {\n",
       "        vertical-align: top;\n",
       "    }\n",
       "\n",
       "    .dataframe thead th {\n",
       "        text-align: right;\n",
       "    }\n",
       "</style>\n",
       "<table border=\"1\" class=\"dataframe\">\n",
       "  <thead>\n",
       "    <tr style=\"text-align: right;\">\n",
       "      <th></th>\n",
       "      <th>LATITUDE</th>\n",
       "      <th>LONGITUDE</th>\n",
       "      <th>ADM3_PCODE</th>\n",
       "      <th>municipality</th>\n",
       "      <th>ADM3_EN</th>\n",
       "      <th>ADM3_UA</th>\n",
       "      <th>ADM3_RU</th>\n",
       "      <th>ADM2_EN</th>\n",
       "      <th>ADM2_UA</th>\n",
       "      <th>ADM2_RU</th>\n",
       "      <th>...</th>\n",
       "      <th>ADM1_EN</th>\n",
       "      <th>ADM1_UA</th>\n",
       "      <th>ADM1_RU</th>\n",
       "      <th>ADM1_PCODE</th>\n",
       "      <th>ADM0_EN</th>\n",
       "      <th>year</th>\n",
       "      <th>ACQ_TIME</th>\n",
       "      <th>date</th>\n",
       "      <th>pop_exact</th>\n",
       "      <th>state</th>\n",
       "    </tr>\n",
       "  </thead>\n",
       "  <tbody>\n",
       "    <tr>\n",
       "      <th>224</th>\n",
       "      <td>45.30062</td>\n",
       "      <td>28.89845</td>\n",
       "      <td>UA5108003</td>\n",
       "      <td>UA5108003</td>\n",
       "      <td>Izmailska</td>\n",
       "      <td>Ізмаїльська</td>\n",
       "      <td>Измаильская</td>\n",
       "      <td>Izmailskyi</td>\n",
       "      <td>Ізмаїльський</td>\n",
       "      <td>Измаильский</td>\n",
       "      <td>...</td>\n",
       "      <td>Odeska</td>\n",
       "      <td>Одеська</td>\n",
       "      <td>Одесская</td>\n",
       "      <td>UA51</td>\n",
       "      <td>Ukraine</td>\n",
       "      <td>2023</td>\n",
       "      <td>48</td>\n",
       "      <td>2023-08-02</td>\n",
       "      <td>280.977295</td>\n",
       "      <td>Odesa Oblast</td>\n",
       "    </tr>\n",
       "    <tr>\n",
       "      <th>228</th>\n",
       "      <td>45.30187</td>\n",
       "      <td>28.90038</td>\n",
       "      <td>UA5108009</td>\n",
       "      <td>UA5108009</td>\n",
       "      <td>Safianivska</td>\n",
       "      <td>Саф'янівська</td>\n",
       "      <td>Сафьяновская</td>\n",
       "      <td>Izmailskyi</td>\n",
       "      <td>Ізмаїльський</td>\n",
       "      <td>Измаильский</td>\n",
       "      <td>...</td>\n",
       "      <td>Odeska</td>\n",
       "      <td>Одеська</td>\n",
       "      <td>Одесская</td>\n",
       "      <td>UA51</td>\n",
       "      <td>Ukraine</td>\n",
       "      <td>2023</td>\n",
       "      <td>1155</td>\n",
       "      <td>2023-08-03</td>\n",
       "      <td>316.327911</td>\n",
       "      <td>Odesa Oblast</td>\n",
       "    </tr>\n",
       "    <tr>\n",
       "      <th>233</th>\n",
       "      <td>45.30349</td>\n",
       "      <td>28.89518</td>\n",
       "      <td>UA5108003</td>\n",
       "      <td>UA5108003</td>\n",
       "      <td>Izmailska</td>\n",
       "      <td>Ізмаїльська</td>\n",
       "      <td>Измаильская</td>\n",
       "      <td>Izmailskyi</td>\n",
       "      <td>Ізмаїльський</td>\n",
       "      <td>Измаильский</td>\n",
       "      <td>...</td>\n",
       "      <td>Odeska</td>\n",
       "      <td>Одеська</td>\n",
       "      <td>Одесская</td>\n",
       "      <td>UA51</td>\n",
       "      <td>Ukraine</td>\n",
       "      <td>2023</td>\n",
       "      <td>30</td>\n",
       "      <td>2023-08-03</td>\n",
       "      <td>280.977295</td>\n",
       "      <td>Odesa Oblast</td>\n",
       "    </tr>\n",
       "    <tr>\n",
       "      <th>235</th>\n",
       "      <td>45.30404</td>\n",
       "      <td>28.89320</td>\n",
       "      <td>UA5108003</td>\n",
       "      <td>UA5108003</td>\n",
       "      <td>Izmailska</td>\n",
       "      <td>Ізмаїльська</td>\n",
       "      <td>Измаильская</td>\n",
       "      <td>Izmailskyi</td>\n",
       "      <td>Ізмаїльський</td>\n",
       "      <td>Измаильский</td>\n",
       "      <td>...</td>\n",
       "      <td>Odeska</td>\n",
       "      <td>Одеська</td>\n",
       "      <td>Одесская</td>\n",
       "      <td>UA51</td>\n",
       "      <td>Ukraine</td>\n",
       "      <td>2023</td>\n",
       "      <td>120</td>\n",
       "      <td>2023-08-03</td>\n",
       "      <td>280.977295</td>\n",
       "      <td>Odesa Oblast</td>\n",
       "    </tr>\n",
       "    <tr>\n",
       "      <th>242</th>\n",
       "      <td>45.30515</td>\n",
       "      <td>28.90079</td>\n",
       "      <td>UA5108009</td>\n",
       "      <td>UA5108009</td>\n",
       "      <td>Safianivska</td>\n",
       "      <td>Саф'янівська</td>\n",
       "      <td>Сафьяновская</td>\n",
       "      <td>Izmailskyi</td>\n",
       "      <td>Ізмаїльський</td>\n",
       "      <td>Измаильский</td>\n",
       "      <td>...</td>\n",
       "      <td>Odeska</td>\n",
       "      <td>Одеська</td>\n",
       "      <td>Одесская</td>\n",
       "      <td>UA51</td>\n",
       "      <td>Ukraine</td>\n",
       "      <td>2023</td>\n",
       "      <td>48</td>\n",
       "      <td>2023-08-02</td>\n",
       "      <td>316.327911</td>\n",
       "      <td>Odesa Oblast</td>\n",
       "    </tr>\n",
       "  </tbody>\n",
       "</table>\n",
       "<p>5 rows × 21 columns</p>\n",
       "</div>"
      ],
      "text/plain": [
       "     LATITUDE  LONGITUDE ADM3_PCODE municipality      ADM3_EN       ADM3_UA  \\\n",
       "224  45.30062   28.89845  UA5108003    UA5108003    Izmailska   Ізмаїльська   \n",
       "228  45.30187   28.90038  UA5108009    UA5108009  Safianivska  Саф'янівська   \n",
       "233  45.30349   28.89518  UA5108003    UA5108003    Izmailska   Ізмаїльська   \n",
       "235  45.30404   28.89320  UA5108003    UA5108003    Izmailska   Ізмаїльська   \n",
       "242  45.30515   28.90079  UA5108009    UA5108009  Safianivska  Саф'янівська   \n",
       "\n",
       "          ADM3_RU     ADM2_EN       ADM2_UA      ADM2_RU  ... ADM1_EN  \\\n",
       "224   Измаильская  Izmailskyi  Ізмаїльський  Измаильский  ...  Odeska   \n",
       "228  Сафьяновская  Izmailskyi  Ізмаїльський  Измаильский  ...  Odeska   \n",
       "233   Измаильская  Izmailskyi  Ізмаїльський  Измаильский  ...  Odeska   \n",
       "235   Измаильская  Izmailskyi  Ізмаїльський  Измаильский  ...  Odeska   \n",
       "242  Сафьяновская  Izmailskyi  Ізмаїльський  Измаильский  ...  Odeska   \n",
       "\n",
       "     ADM1_UA   ADM1_RU ADM1_PCODE  ADM0_EN  year  ACQ_TIME        date  \\\n",
       "224  Одеська  Одесская       UA51  Ukraine  2023        48  2023-08-02   \n",
       "228  Одеська  Одесская       UA51  Ukraine  2023      1155  2023-08-03   \n",
       "233  Одеська  Одесская       UA51  Ukraine  2023        30  2023-08-03   \n",
       "235  Одеська  Одесская       UA51  Ukraine  2023       120  2023-08-03   \n",
       "242  Одеська  Одесская       UA51  Ukraine  2023        48  2023-08-02   \n",
       "\n",
       "      pop_exact         state  \n",
       "224  280.977295  Odesa Oblast  \n",
       "228  316.327911  Odesa Oblast  \n",
       "233  280.977295  Odesa Oblast  \n",
       "235  280.977295  Odesa Oblast  \n",
       "242  316.327911  Odesa Oblast  \n",
       "\n",
       "[5 rows x 21 columns]"
      ]
     },
     "execution_count": 12,
     "metadata": {},
     "output_type": "execute_result"
    }
   ],
   "source": [
    "# Limit war fires to states of interest\n",
    "war_fire_df_state = war_fire_df[war_fire_df[\"state\"].isin([\"Odesa Oblast\",\"Chernihiv Oblast\", \"Sumy Oblast\", \"Kharkiv Oblast\",\"Luhansk Oblast\",\"Donetsk Oblast\",\"Zaporizhia Oblast\",\"Kherson Oblast\",\"Mykolaiv Oblast\"])]\n",
    "war_fire_df_state.head() "
   ]
  },
  {
   "cell_type": "code",
   "execution_count": null,
   "id": "bda4c8b2",
   "metadata": {},
   "outputs": [
    {
     "data": {
      "text/plain": [
       "state\n",
       "Odesa Oblast      465\n",
       "Kherson Oblast     18\n",
       "Name: count, dtype: int64"
      ]
     },
     "execution_count": 13,
     "metadata": {},
     "output_type": "execute_result"
    }
   ],
   "source": [
    "war_fire_df_state[\"state\"].value_counts()"
   ]
  },
  {
   "cell_type": "code",
   "execution_count": null,
   "id": "d3a9d964",
   "metadata": {},
   "outputs": [
    {
     "name": "stderr",
     "output_type": "stream",
     "text": [
      "/var/folders/yn/y0g2nf7d6tg_3p0ftb5f049c0000gn/T/ipykernel_42431/3676197505.py:2: SettingWithCopyWarning: \n",
      "A value is trying to be set on a copy of a slice from a DataFrame.\n",
      "Try using .loc[row_indexer,col_indexer] = value instead\n",
      "\n",
      "See the caveats in the documentation: https://pandas.pydata.org/pandas-docs/stable/user_guide/indexing.html#returning-a-view-versus-a-copy\n",
      "  war_fire_df_state['geometry'] = war_fire_df_state.apply(lambda row: Point(row['LATITUDE'], row['LONGITUDE']), axis=1)\n"
     ]
    },
    {
     "data": {
      "text/plain": [
       "224    POINT (45.30062 28.89845)\n",
       "228    POINT (45.30187 28.90038)\n",
       "233    POINT (45.30349 28.89518)\n",
       "235     POINT (45.30404 28.8932)\n",
       "242    POINT (45.30515 28.90079)\n",
       "Name: geometry, dtype: object"
      ]
     },
     "execution_count": 14,
     "metadata": {},
     "output_type": "execute_result"
    }
   ],
   "source": [
    "# Add in the geometry column\n",
    "war_fire_df_state['geometry'] = war_fire_df_state.apply(lambda row: Point(row['LATITUDE'], row['LONGITUDE']), axis=1)\n",
    "war_fire_df_state[\"geometry\"].head()"
   ]
  },
  {
   "cell_type": "markdown",
   "id": "aed39502",
   "metadata": {},
   "source": [
    "# calculate UTM"
   ]
  },
  {
   "cell_type": "code",
   "execution_count": null,
   "id": "c78fcbda",
   "metadata": {},
   "outputs": [],
   "source": [
    "\n",
    "# change to GeoDataFrame\n",
    "# geo_build_df = gpd.GeoDataFrame(buildings_df)\n",
    "# geo_build_df = geo_build_df.set_geometry(\"geometry_wkt_cent\")"
   ]
  },
  {
   "cell_type": "code",
   "execution_count": null,
   "id": "4d794218",
   "metadata": {},
   "outputs": [],
   "source": [
    "# from pyproj import Proj\n",
    "# pp = Proj(proj='utm',zone=10,ellps='WGS84', preserve_units=False)\n",
    "\n",
    "# geo_build_df[\"xx\"], geo_build_df[\"yy\"]= pp(geo_build_df[\"geometry_wkt_cent\"].x.values,geo_build_df[\"geometry_wkt_cent\"].y.values)\n",
    "# # My_data[\"X\"] = xx\n",
    "# # My_data[\"Y\"] = yy "
   ]
  },
  {
   "cell_type": "code",
   "execution_count": null,
   "id": "114cd3fa",
   "metadata": {},
   "outputs": [],
   "source": [
    "# First, convert WKT column to geometries\n",
    "#buildings_df_state['geometry_wkt_cent2'] = gpd.GeoSeries.from_wkt(buildings_df_state['geometry_wkt_cent'])\n",
    "\n",
    "# Then create a GeoDataFrame, setting the geometry to the converted geometries\n",
    "# geo_build_df = gpd.GeoDataFrame(buildings_df_state, geometry='geometry_wkt_cent')"
   ]
  },
  {
   "cell_type": "code",
   "execution_count": null,
   "id": "e404ae06",
   "metadata": {},
   "outputs": [],
   "source": [
    "# geo_build_df.crs = 'epsg:32635'\n",
    "# # change the projection of geodf\n",
    "# geo_build_df_2 = geo_build_df.to_crs(epsg=32635)\n",
    "# print(geo_build_df_2)"
   ]
  },
  {
   "cell_type": "code",
   "execution_count": null,
   "id": "7bea63ab",
   "metadata": {},
   "outputs": [],
   "source": [
    "#geo_build_df_2[\"geometry_wkt_cent\"]"
   ]
  },
  {
   "cell_type": "markdown",
   "id": "e650e734",
   "metadata": {},
   "source": [
    "# Buffer "
   ]
  },
  {
   "cell_type": "code",
   "execution_count": null,
   "id": "d41f1a12",
   "metadata": {},
   "outputs": [],
   "source": [
    "# import geopandas as gpd\n",
    "# from shapely.geometry import Point\n",
    "# from pprint import pprint\n",
    "\n",
    "# buffer_radius_m = 500\n",
    "# buffered_gdf = geo_build_df_2.copy()\n",
    "\n",
    "# buffered_gdf['geometry_wkt_cent_buff'] = buffered_gdf.buffer(buffer_radius_m)  # 1 degree of latitude is approximately 111.32 km\n",
    "# # Print the buffered GeoDataFrame\n",
    "\n",
    "# pprint(buffered_gdf)"
   ]
  },
  {
   "cell_type": "code",
   "execution_count": null,
   "id": "85a4819f",
   "metadata": {},
   "outputs": [],
   "source": [
    "#pip install pyproj --upgrade\n"
   ]
  },
  {
   "cell_type": "code",
   "execution_count": null,
   "id": "f6b43af6",
   "metadata": {},
   "outputs": [
    {
     "name": "stdout",
     "output_type": "stream",
     "text": [
      "3.6.1\n"
     ]
    }
   ],
   "source": [
    "import pyproj\n",
    "print(pyproj.__version__)\n"
   ]
  },
  {
   "cell_type": "markdown",
   "id": "f10ebd85",
   "metadata": {},
   "source": [
    "### with utm conversion\n"
   ]
  },
  {
   "cell_type": "code",
   "execution_count": null,
   "id": "4949ded8",
   "metadata": {
    "scrolled": true
   },
   "outputs": [
    {
     "data": {
      "text/plain": [
       "224    POLYGON ((2300506.403 3338797.153, 2300506.162...\n",
       "228    POLYGON ((2300596.466 3339036.818, 2300596.226...\n",
       "233    POLYGON ((2300853.347 3338470.964, 2300853.106...\n",
       "235    POLYGON ((2300944.466 3338254.432, 2300944.225...\n",
       "242    POLYGON ((2300917.490 3339136.015, 2300917.250...\n",
       "Name: geometry_buff, dtype: geometry"
      ]
     },
     "execution_count": 23,
     "metadata": {},
     "output_type": "execute_result"
    }
   ],
   "source": [
    "# In summary, the code first ensures that the GeoDataFrame has a defined CRS, \n",
    "# estimates the UTM CRS, and then reprojects the data to that UTM CRS. \n",
    "# The code then applies a buffer of 50 meters around each geometry in the \n",
    "# UTM-projected GeoDataFrame. Finally the code sets the geometry of the GeoDataFrame to the buffered geometries.\n",
    "geo_warfires_df = gpd.GeoDataFrame(war_fire_df_state, geometry='geometry')\n",
    "geo_warfires_df.set_crs(epsg=4326, inplace=True)\n",
    "utm_crs = geo_warfires_df.estimate_utm_crs()\n",
    "geo_warfires_df_utm = geo_warfires_df.to_crs(\"EPSG:32635\")\n",
    "\n",
    "# Then, apply the buffer in meters\n",
    "buffer_radius_m = 50  # Buffer radius in meters\n",
    "geo_warfires_df_utm['geometry_buff'] = geo_warfires_df_utm.buffer(buffer_radius_m)\n",
    "geo_warfires_df_utm = geo_warfires_df_utm.set_geometry(\"geometry_buff\")\n",
    "geo_warfires_df_utm['geometry_buff'].head()"
   ]
  },
  {
   "cell_type": "markdown",
   "id": "a9c01e52",
   "metadata": {},
   "source": [
    "# Buildings dataset"
   ]
  },
  {
   "cell_type": "markdown",
   "id": "1b9f26be",
   "metadata": {},
   "source": [
    "## Convert string geometry to integer"
   ]
  },
  {
   "cell_type": "code",
   "execution_count": null,
   "id": "260c414c",
   "metadata": {},
   "outputs": [],
   "source": [
    "output_df['geometry_wkt'] = output_df['geometry'].apply(lambda x: loads(x) if x is not None else None)"
   ]
  },
  {
   "cell_type": "code",
   "execution_count": null,
   "id": "c7d6ed7b",
   "metadata": {},
   "outputs": [
    {
     "data": {
      "text/html": [
       "<div>\n",
       "<style scoped>\n",
       "    .dataframe tbody tr th:only-of-type {\n",
       "        vertical-align: middle;\n",
       "    }\n",
       "\n",
       "    .dataframe tbody tr th {\n",
       "        vertical-align: top;\n",
       "    }\n",
       "\n",
       "    .dataframe thead th {\n",
       "        text-align: right;\n",
       "    }\n",
       "</style>\n",
       "<table border=\"1\" class=\"dataframe\">\n",
       "  <thead>\n",
       "    <tr style=\"text-align: right;\">\n",
       "      <th></th>\n",
       "      <th>osm_id</th>\n",
       "      <th>buildingma</th>\n",
       "      <th>addrstreet</th>\n",
       "      <th>addrcity</th>\n",
       "      <th>building</th>\n",
       "      <th>addrhousen</th>\n",
       "      <th>office</th>\n",
       "      <th>addrfull</th>\n",
       "      <th>name</th>\n",
       "      <th>buildingle</th>\n",
       "      <th>source</th>\n",
       "      <th>geometry</th>\n",
       "      <th>geometry_wkt</th>\n",
       "    </tr>\n",
       "  </thead>\n",
       "  <tbody>\n",
       "    <tr>\n",
       "      <th>0</th>\n",
       "      <td>4338650.0</td>\n",
       "      <td>NaN</td>\n",
       "      <td>NaN</td>\n",
       "      <td>NaN</td>\n",
       "      <td>construction</td>\n",
       "      <td>NaN</td>\n",
       "      <td>NaN</td>\n",
       "      <td>NaN</td>\n",
       "      <td>Льодовий стадіон</td>\n",
       "      <td>5</td>\n",
       "      <td>NaN</td>\n",
       "      <td>POLYGON ((30.4658704 50.3739959, 30.4672303 50...</td>\n",
       "      <td>POLYGON ((30.4658704 50.3739959, 30.4672303 50...</td>\n",
       "    </tr>\n",
       "    <tr>\n",
       "      <th>1</th>\n",
       "      <td>4528325.0</td>\n",
       "      <td>NaN</td>\n",
       "      <td>NaN</td>\n",
       "      <td>NaN</td>\n",
       "      <td>yes</td>\n",
       "      <td>NaN</td>\n",
       "      <td>NaN</td>\n",
       "      <td>NaN</td>\n",
       "      <td>NaN</td>\n",
       "      <td>NaN</td>\n",
       "      <td>NaN</td>\n",
       "      <td>POLYGON ((35.4149579 45.3275258, 35.4150137 45...</td>\n",
       "      <td>POLYGON ((35.4149579 45.3275258, 35.4150137 45...</td>\n",
       "    </tr>\n",
       "    <tr>\n",
       "      <th>2</th>\n",
       "      <td>4528616.0</td>\n",
       "      <td>NaN</td>\n",
       "      <td>NaN</td>\n",
       "      <td>NaN</td>\n",
       "      <td>yes</td>\n",
       "      <td>NaN</td>\n",
       "      <td>NaN</td>\n",
       "      <td>NaN</td>\n",
       "      <td>NaN</td>\n",
       "      <td>NaN</td>\n",
       "      <td>NaN</td>\n",
       "      <td>POLYGON ((35.4150689 45.3277749, 35.4151686 45...</td>\n",
       "      <td>POLYGON ((35.4150689 45.3277749, 35.4151686 45...</td>\n",
       "    </tr>\n",
       "    <tr>\n",
       "      <th>3</th>\n",
       "      <td>4528933.0</td>\n",
       "      <td>NaN</td>\n",
       "      <td>NaN</td>\n",
       "      <td>NaN</td>\n",
       "      <td>yes</td>\n",
       "      <td>NaN</td>\n",
       "      <td>NaN</td>\n",
       "      <td>NaN</td>\n",
       "      <td>NaN</td>\n",
       "      <td>NaN</td>\n",
       "      <td>NaN</td>\n",
       "      <td>POLYGON ((35.4122859 45.3309186, 35.4123139 45...</td>\n",
       "      <td>POLYGON ((35.4122859 45.3309186, 35.4123139 45...</td>\n",
       "    </tr>\n",
       "    <tr>\n",
       "      <th>4</th>\n",
       "      <td>4529198.0</td>\n",
       "      <td>NaN</td>\n",
       "      <td>NaN</td>\n",
       "      <td>NaN</td>\n",
       "      <td>yes</td>\n",
       "      <td>NaN</td>\n",
       "      <td>NaN</td>\n",
       "      <td>NaN</td>\n",
       "      <td>NaN</td>\n",
       "      <td>NaN</td>\n",
       "      <td>NaN</td>\n",
       "      <td>POLYGON ((33.7198442 44.4086498, 33.720139 44....</td>\n",
       "      <td>POLYGON ((33.7198442 44.4086498, 33.720139 44....</td>\n",
       "    </tr>\n",
       "  </tbody>\n",
       "</table>\n",
       "</div>"
      ],
      "text/plain": [
       "      osm_id  buildingma addrstreet addrcity      building addrhousen office  \\\n",
       "0  4338650.0         NaN        NaN      NaN  construction        NaN    NaN   \n",
       "1  4528325.0         NaN        NaN      NaN           yes        NaN    NaN   \n",
       "2  4528616.0         NaN        NaN      NaN           yes        NaN    NaN   \n",
       "3  4528933.0         NaN        NaN      NaN           yes        NaN    NaN   \n",
       "4  4529198.0         NaN        NaN      NaN           yes        NaN    NaN   \n",
       "\n",
       "  addrfull              name buildingle source  \\\n",
       "0      NaN  Льодовий стадіон          5    NaN   \n",
       "1      NaN               NaN        NaN    NaN   \n",
       "2      NaN               NaN        NaN    NaN   \n",
       "3      NaN               NaN        NaN    NaN   \n",
       "4      NaN               NaN        NaN    NaN   \n",
       "\n",
       "                                            geometry  \\\n",
       "0  POLYGON ((30.4658704 50.3739959, 30.4672303 50...   \n",
       "1  POLYGON ((35.4149579 45.3275258, 35.4150137 45...   \n",
       "2  POLYGON ((35.4150689 45.3277749, 35.4151686 45...   \n",
       "3  POLYGON ((35.4122859 45.3309186, 35.4123139 45...   \n",
       "4  POLYGON ((33.7198442 44.4086498, 33.720139 44....   \n",
       "\n",
       "                                        geometry_wkt  \n",
       "0  POLYGON ((30.4658704 50.3739959, 30.4672303 50...  \n",
       "1  POLYGON ((35.4149579 45.3275258, 35.4150137 45...  \n",
       "2  POLYGON ((35.4150689 45.3277749, 35.4151686 45...  \n",
       "3  POLYGON ((35.4122859 45.3309186, 35.4123139 45...  \n",
       "4  POLYGON ((33.7198442 44.4086498, 33.720139 44....  "
      ]
     },
     "execution_count": 25,
     "metadata": {},
     "output_type": "execute_result"
    }
   ],
   "source": [
    "buildings_df = output_df.copy()\n",
    "buildings_df.head()"
   ]
  },
  {
   "cell_type": "code",
   "execution_count": null,
   "id": "a97ab30e",
   "metadata": {},
   "outputs": [
    {
     "name": "stdout",
     "output_type": "stream",
     "text": [
      "0.845716634706276\n"
     ]
    }
   ],
   "source": [
    "print(buildings_df[\"buildingle\"].isna().sum()/len(buildings_df))"
   ]
  },
  {
   "cell_type": "code",
   "execution_count": null,
   "id": "69ad20d3",
   "metadata": {},
   "outputs": [],
   "source": [
    "buildings_df[\"geometry_wkt_cent\"] = np.nan"
   ]
  },
  {
   "cell_type": "code",
   "execution_count": null,
   "id": "2d3a1ff6",
   "metadata": {},
   "outputs": [],
   "source": [
    "# buildings_df[\"geometry_wkt_cent\"] = buildings_df[\"geometry_wkt\"].apply(lambda x: x.centroid )\n",
    "buildings_df['geometry_wkt_cent'] = buildings_df['geometry_wkt'].apply(lambda geom: Point(geom.centroid.y, geom.centroid.x))\n",
    "\n",
    "# This will result in a column 'centroid' with tuples where the first element is latitude and the second is longitude."
   ]
  },
  {
   "cell_type": "code",
   "execution_count": null,
   "id": "895f0bee",
   "metadata": {},
   "outputs": [
    {
     "data": {
      "text/plain": [
       "0          POINT (50.374100145135635 30.467099672291766)\n",
       "1           POINT (45.32753752984076 35.415019664900306)\n",
       "2           POINT (45.327807102299445 35.41514065136904)\n",
       "3                  POINT (45.3309117 35.412328200000005)\n",
       "4            POINT (44.40867430282276 33.72001963688109)\n",
       "                               ...                      \n",
       "6018382       POINT (49.2044672808804 25.60430534762094)\n",
       "6018383    POINT (49.204496717246315 25.604121257448696)\n",
       "6018384     POINT (49.20462673448506 25.604146556830067)\n",
       "6018385           POINT (49.19898575 25.603685750000004)\n",
       "6018386      POINT (49.19837142702208 25.60360779391183)\n",
       "Name: geometry_wkt_cent, Length: 6018387, dtype: object"
      ]
     },
     "execution_count": 29,
     "metadata": {},
     "output_type": "execute_result"
    }
   ],
   "source": [
    "buildings_df[\"geometry_wkt_cent\"]"
   ]
  },
  {
   "cell_type": "markdown",
   "id": "104ebc43",
   "metadata": {},
   "source": [
    "## Find the intersection of war_fires and buildings\n"
   ]
  },
  {
   "cell_type": "markdown",
   "id": "6131fa6f",
   "metadata": {},
   "source": [
    "### Buildings dataset with utm conversion\n"
   ]
  },
  {
   "cell_type": "code",
   "execution_count": null,
   "id": "4bd374fa",
   "metadata": {
    "scrolled": true
   },
   "outputs": [],
   "source": [
    "# The main purpose of this code is to convert the geometries in the building GeoDataFrame \n",
    "# from the original geographic coordinate system (WGS 84) to a UTM projected coordinate \n",
    "#  system (EPSG 32635). This might be useful for spatial analysis or visualization in a \n",
    "# local coordinate system, which can be more suitable for certain tasks.\n",
    "geo_buildings_df = gpd.GeoDataFrame(buildings_df, geometry='geometry_wkt_cent')\n",
    "geo_buildings_df.set_crs(epsg=4326, inplace=True)\n",
    "geo_buildings_df_utm = geo_buildings_df.to_crs(\"EPSG:32635\")"
   ]
  },
  {
   "cell_type": "markdown",
   "id": "ccd4b12f",
   "metadata": {},
   "source": [
    "### How many buildings are within 50 meters of warfires"
   ]
  },
  {
   "cell_type": "code",
   "execution_count": null,
   "id": "f1970d90",
   "metadata": {},
   "outputs": [
    {
     "data": {
      "application/vnd.jupyter.widget-view+json": {
       "model_id": "a6ee7941b0964550b06fd5f4de20e1f3",
       "version_major": 2,
       "version_minor": 0
      },
      "text/plain": [
       "  0%|          | 0/483 [00:00<?, ?it/s]"
      ]
     },
     "metadata": {},
     "output_type": "display_data"
    }
   ],
   "source": [
    "# Function to count buildings within a given buffer polygon\n",
    "def count_buildings_in_buffer(buffer, buildings_gdf):\n",
    "    # Use the within method to check if buildings are within the buffer zone\n",
    "    return buildings_gdf.within(buffer).sum()\n",
    "\n",
    "# Rewrite the code above using tqdm to see the progress of the loop\n",
    "for idx, row in tqdm(geo_warfires_df_utm.iterrows(), total=geo_warfires_df_utm.shape[0]):\n",
    "    geo_warfires_df_utm.loc[idx, 'building_count'] = count_buildings_in_buffer(row['geometry_buff'], geo_buildings_df_utm)"
   ]
  },
  {
   "cell_type": "code",
   "execution_count": null,
   "id": "469a2f01",
   "metadata": {},
   "outputs": [
    {
     "data": {
      "text/plain": [
       "224    POLYGON ((2300506.403 3338797.153, 2300506.162...\n",
       "228    POLYGON ((2300596.466 3339036.818, 2300596.226...\n",
       "233    POLYGON ((2300853.347 3338470.964, 2300853.106...\n",
       "235    POLYGON ((2300944.466 3338254.432, 2300944.225...\n",
       "242    POLYGON ((2300917.490 3339136.015, 2300917.250...\n",
       "                             ...                        \n",
       "995    POLYGON ((2259106.124 3978606.275, 2259105.883...\n",
       "996    POLYGON ((2367623.799 3381580.882, 2367623.558...\n",
       "997    POLYGON ((2347862.418 3497517.736, 2347862.177...\n",
       "998    POLYGON ((2259007.219 3979920.820, 2259006.978...\n",
       "999    POLYGON ((2259246.528 3978788.505, 2259246.287...\n",
       "Name: geometry_buff, Length: 483, dtype: geometry"
      ]
     },
     "execution_count": 32,
     "metadata": {},
     "output_type": "execute_result"
    }
   ],
   "source": [
    "geo_warfires_df_utm['geometry_buff']"
   ]
  },
  {
   "cell_type": "code",
   "execution_count": null,
   "id": "86d0b8a0",
   "metadata": {},
   "outputs": [
    {
     "data": {
      "text/html": [
       "<div>\n",
       "<style scoped>\n",
       "    .dataframe tbody tr th:only-of-type {\n",
       "        vertical-align: middle;\n",
       "    }\n",
       "\n",
       "    .dataframe tbody tr th {\n",
       "        vertical-align: top;\n",
       "    }\n",
       "\n",
       "    .dataframe thead th {\n",
       "        text-align: right;\n",
       "    }\n",
       "</style>\n",
       "<table border=\"1\" class=\"dataframe\">\n",
       "  <thead>\n",
       "    <tr style=\"text-align: right;\">\n",
       "      <th></th>\n",
       "      <th>LATITUDE</th>\n",
       "      <th>LONGITUDE</th>\n",
       "      <th>ADM3_PCODE</th>\n",
       "      <th>municipality</th>\n",
       "      <th>ADM3_EN</th>\n",
       "      <th>ADM3_UA</th>\n",
       "      <th>ADM3_RU</th>\n",
       "      <th>ADM2_EN</th>\n",
       "      <th>ADM2_UA</th>\n",
       "      <th>ADM2_RU</th>\n",
       "      <th>...</th>\n",
       "      <th>ADM1_PCODE</th>\n",
       "      <th>ADM0_EN</th>\n",
       "      <th>year</th>\n",
       "      <th>ACQ_TIME</th>\n",
       "      <th>date</th>\n",
       "      <th>pop_exact</th>\n",
       "      <th>state</th>\n",
       "      <th>geometry</th>\n",
       "      <th>geometry_buff</th>\n",
       "      <th>building_count</th>\n",
       "    </tr>\n",
       "  </thead>\n",
       "  <tbody>\n",
       "    <tr>\n",
       "      <th>243</th>\n",
       "      <td>45.30531</td>\n",
       "      <td>28.89597</td>\n",
       "      <td>UA5108003</td>\n",
       "      <td>UA5108003</td>\n",
       "      <td>Izmailska</td>\n",
       "      <td>Ізмаїльська</td>\n",
       "      <td>Измаильская</td>\n",
       "      <td>Izmailskyi</td>\n",
       "      <td>Ізмаїльський</td>\n",
       "      <td>Измаильский</td>\n",
       "      <td>...</td>\n",
       "      <td>UA51</td>\n",
       "      <td>Ukraine</td>\n",
       "      <td>2023</td>\n",
       "      <td>30</td>\n",
       "      <td>2023-08-03</td>\n",
       "      <td>280.977295</td>\n",
       "      <td>Odesa Oblast</td>\n",
       "      <td>POINT (2300971.250 3338590.022)</td>\n",
       "      <td>POLYGON ((2301021.250 3338590.022, 2301021.009...</td>\n",
       "      <td>3.0</td>\n",
       "    </tr>\n",
       "    <tr>\n",
       "      <th>244</th>\n",
       "      <td>45.30536</td>\n",
       "      <td>28.89639</td>\n",
       "      <td>UA5108003</td>\n",
       "      <td>UA5108003</td>\n",
       "      <td>Izmailska</td>\n",
       "      <td>Ізмаїльська</td>\n",
       "      <td>Измаильская</td>\n",
       "      <td>Izmailskyi</td>\n",
       "      <td>Ізмаїльський</td>\n",
       "      <td>Измаильский</td>\n",
       "      <td>...</td>\n",
       "      <td>UA51</td>\n",
       "      <td>Ukraine</td>\n",
       "      <td>2023</td>\n",
       "      <td>120</td>\n",
       "      <td>2023-08-03</td>\n",
       "      <td>280.977295</td>\n",
       "      <td>Odesa Oblast</td>\n",
       "      <td>POINT (2300968.613 3338638.623)</td>\n",
       "      <td>POLYGON ((2301018.613 3338638.623, 2301018.372...</td>\n",
       "      <td>3.0</td>\n",
       "    </tr>\n",
       "    <tr>\n",
       "      <th>422</th>\n",
       "      <td>45.43291</td>\n",
       "      <td>29.27516</td>\n",
       "      <td>UA5108005</td>\n",
       "      <td>UA5108005</td>\n",
       "      <td>Kiliiska</td>\n",
       "      <td>Кілійська</td>\n",
       "      <td>Килийская</td>\n",
       "      <td>Izmailskyi</td>\n",
       "      <td>Ізмаїльський</td>\n",
       "      <td>Измаильский</td>\n",
       "      <td>...</td>\n",
       "      <td>UA51</td>\n",
       "      <td>Ukraine</td>\n",
       "      <td>2023</td>\n",
       "      <td>113</td>\n",
       "      <td>2023-09-07</td>\n",
       "      <td>254.374786</td>\n",
       "      <td>Odesa Oblast</td>\n",
       "      <td>POINT (2306757.697 3383800.898)</td>\n",
       "      <td>POLYGON ((2306807.697 3383800.898, 2306807.456...</td>\n",
       "      <td>1.0</td>\n",
       "    </tr>\n",
       "    <tr>\n",
       "      <th>465</th>\n",
       "      <td>45.46016</td>\n",
       "      <td>29.29778</td>\n",
       "      <td>UA5108005</td>\n",
       "      <td>UA5108005</td>\n",
       "      <td>Kiliiska</td>\n",
       "      <td>Кілійська</td>\n",
       "      <td>Килийская</td>\n",
       "      <td>Izmailskyi</td>\n",
       "      <td>Ізмаїльський</td>\n",
       "      <td>Измаильский</td>\n",
       "      <td>...</td>\n",
       "      <td>UA51</td>\n",
       "      <td>Ukraine</td>\n",
       "      <td>2023</td>\n",
       "      <td>1051</td>\n",
       "      <td>2023-10-12</td>\n",
       "      <td>178.179245</td>\n",
       "      <td>Odesa Oblast</td>\n",
       "      <td>POINT (2309055.847 3386818.556)</td>\n",
       "      <td>POLYGON ((2309105.847 3386818.556, 2309105.606...</td>\n",
       "      <td>1.0</td>\n",
       "    </tr>\n",
       "  </tbody>\n",
       "</table>\n",
       "<p>4 rows × 24 columns</p>\n",
       "</div>"
      ],
      "text/plain": [
       "     LATITUDE  LONGITUDE ADM3_PCODE municipality    ADM3_EN      ADM3_UA  \\\n",
       "243  45.30531   28.89597  UA5108003    UA5108003  Izmailska  Ізмаїльська   \n",
       "244  45.30536   28.89639  UA5108003    UA5108003  Izmailska  Ізмаїльська   \n",
       "422  45.43291   29.27516  UA5108005    UA5108005   Kiliiska    Кілійська   \n",
       "465  45.46016   29.29778  UA5108005    UA5108005   Kiliiska    Кілійська   \n",
       "\n",
       "         ADM3_RU     ADM2_EN       ADM2_UA      ADM2_RU  ... ADM1_PCODE  \\\n",
       "243  Измаильская  Izmailskyi  Ізмаїльський  Измаильский  ...       UA51   \n",
       "244  Измаильская  Izmailskyi  Ізмаїльський  Измаильский  ...       UA51   \n",
       "422    Килийская  Izmailskyi  Ізмаїльський  Измаильский  ...       UA51   \n",
       "465    Килийская  Izmailskyi  Ізмаїльський  Измаильский  ...       UA51   \n",
       "\n",
       "     ADM0_EN  year ACQ_TIME        date   pop_exact         state  \\\n",
       "243  Ukraine  2023       30  2023-08-03  280.977295  Odesa Oblast   \n",
       "244  Ukraine  2023      120  2023-08-03  280.977295  Odesa Oblast   \n",
       "422  Ukraine  2023      113  2023-09-07  254.374786  Odesa Oblast   \n",
       "465  Ukraine  2023     1051  2023-10-12  178.179245  Odesa Oblast   \n",
       "\n",
       "                            geometry  \\\n",
       "243  POINT (2300971.250 3338590.022)   \n",
       "244  POINT (2300968.613 3338638.623)   \n",
       "422  POINT (2306757.697 3383800.898)   \n",
       "465  POINT (2309055.847 3386818.556)   \n",
       "\n",
       "                                         geometry_buff  building_count  \n",
       "243  POLYGON ((2301021.250 3338590.022, 2301021.009...             3.0  \n",
       "244  POLYGON ((2301018.613 3338638.623, 2301018.372...             3.0  \n",
       "422  POLYGON ((2306807.697 3383800.898, 2306807.456...             1.0  \n",
       "465  POLYGON ((2309105.847 3386818.556, 2309105.606...             1.0  \n",
       "\n",
       "[4 rows x 24 columns]"
      ]
     },
     "execution_count": 33,
     "metadata": {},
     "output_type": "execute_result"
    }
   ],
   "source": [
    "# Take a look at buildings that have been affected by war fires\n",
    "geo_warfires_df_utm[geo_warfires_df_utm['building_count']  > 0].head()"
   ]
  },
  {
   "cell_type": "code",
   "execution_count": null,
   "metadata": {},
   "outputs": [
    {
     "data": {
      "text/plain": [
       "state\n",
       "Kherson Oblast    0.0\n",
       "Odesa Oblast      8.0\n",
       "Name: building_count, dtype: float64"
      ]
     },
     "execution_count": 34,
     "metadata": {},
     "output_type": "execute_result"
    }
   ],
   "source": [
    "# Count the total number of buildings in each state\n",
    "geo_warfires_df_utm.groupby('state')['building_count'].sum()"
   ]
  },
  {
   "cell_type": "code",
   "execution_count": null,
   "id": "9d99c4c9",
   "metadata": {},
   "outputs": [],
   "source": [
    "geo_warfires_df_utm.to_csv(\"./data/processed/buildings_impacted_by_war_fires.csv\", index=False)"
   ]
  },
  {
   "cell_type": "code",
   "execution_count": null,
   "metadata": {},
   "outputs": [
    {
     "name": "stdout",
     "output_type": "stream",
     "text": [
      "[NbConvertApp] Converting notebook ./notebooks/24_01_22-hh-building_count_full.ipynb to script\n",
      "/Users/harryhopalot/Documents/GitHub/dssd_Insulate_ukraine/.venv/lib/python3.11/site-packages/nbformat/__init__.py:93: MissingIDFieldWarning: Code cell is missing an id field, this will become a hard error in future nbformat versions. You may want to use `normalize()` on your notebooks before validations (available since nbformat 5.1.4). Previous versions of nbformat are fixing this issue transparently, and will stop doing so in the future.\n",
      "  validate(nb)\n",
      "[NbConvertApp] Writing 2580 bytes to notebooks/python_scripts/24_01_22-hh-building_count_full.py\n",
      "[NbConvertApp] Converting notebook ./notebooks/24_01_22-hh-buildings_impacted_by_war_fires.ipynb to script\n",
      "/Users/harryhopalot/Documents/GitHub/dssd_Insulate_ukraine/.venv/lib/python3.11/site-packages/nbformat/__init__.py:93: MissingIDFieldWarning: Code cell is missing an id field, this will become a hard error in future nbformat versions. You may want to use `normalize()` on your notebooks before validations (available since nbformat 5.1.4). Previous versions of nbformat are fixing this issue transparently, and will stop doing so in the future.\n",
      "  validate(nb)\n",
      "[NbConvertApp] Writing 8689 bytes to notebooks/python_scripts/24_01_22-hh-buildings_impacted_by_war_fires.py\n"
     ]
    }
   ],
   "source": [
    "# Convert to a python script and save in local folder\n",
    "!jupyter nbconvert --to script ./notebooks/*.ipynb --output-dir='./notebooks/python_scripts/python_scripts'"
   ]
  }
 ],
 "metadata": {
  "kernelspec": {
   "display_name": "Python 3 (ipykernel)",
   "language": "python",
   "name": "python3"
  },
  "language_info": {
   "codemirror_mode": {
    "name": "ipython",
    "version": 3
   },
   "file_extension": ".py",
   "mimetype": "text/x-python",
   "name": "python",
   "nbconvert_exporter": "python",
   "pygments_lexer": "ipython3",
   "version": "3.11.4"
  }
 },
 "nbformat": 4,
 "nbformat_minor": 5
}
