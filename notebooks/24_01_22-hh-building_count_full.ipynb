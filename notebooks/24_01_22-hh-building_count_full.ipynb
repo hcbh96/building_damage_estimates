{
 "cells": [
  {
   "cell_type": "markdown",
   "metadata": {},
   "source": [
    "# Visualising Building Damage\n",
    "# ==========================\n",
    "The provided Python script is designed for data analysis and visualization within a Jupyter Notebook environment. It begins by setting up the necessary environment, importing libraries, and adjusting the working directory if needed. The script loads a dataset from a CSV file, containing information about buildings impacted by war fires, into a Pandas DataFrame. It then conducts an analysis, displaying unique values of the 'building_count' column. Subsequently, the script creates two Folium maps to visualize the spatial distribution of affected buildings. The first map marks locations where buildings have been impacted by war fires, displaying building counts as pop-up information. The second map highlights areas with war fires and a non-null 'geometry_buff,' using circular markers to indicate the number of affected buildings. Finally, the script converts the Jupyter Notebook to a Python script using the `nbconvert` command. Note that the effectiveness of the script depends on the specifics of the dataset and the intended analysis."
   ]
  },
  {
   "cell_type": "code",
   "execution_count": 1,
   "id": "6de383c6-fd0b-4964-8df3-0964255002ed",
   "metadata": {
    "tags": []
   },
   "outputs": [
    {
     "name": "stdout",
     "output_type": "stream",
     "text": [
      "/Users/harryhopalot/Documents/GitHub/dssd_Insulate_ukraine\n"
     ]
    }
   ],
   "source": [
    "# Auto update notebook imports\n",
    "#%load_ext autoreload\n",
    "# %autoreload 2\n",
    "\n",
    "# Backtrack to folder source directory if it doesn't already exist in path\n",
    "import os\n",
    "import sys\n",
    "\n",
    "if os.path.basename(os.getcwd()) == \"notebooks\":\n",
    "    os.chdir(\"..\")\n",
    "\n",
    "sys.path.append(os.getcwd())\n",
    "print(os.getcwd())\n",
    "\n",
    "import geopandas as gpd\n",
    "import pandas as pd\n",
    "from shapely.wkt import loads\n",
    "import numpy as np\n",
    "from shapely import wkt\n",
    "from shapely.geometry import Point\n",
    "import folium\n",
    "from geopandas import GeoDataFrame"
   ]
  },
  {
   "cell_type": "code",
   "execution_count": 2,
   "id": "113d0d49-670f-4c0d-96bf-891a403404a1",
   "metadata": {
    "tags": []
   },
   "outputs": [
    {
     "data": {
      "text/html": [
       "<div>\n",
       "<style scoped>\n",
       "    .dataframe tbody tr th:only-of-type {\n",
       "        vertical-align: middle;\n",
       "    }\n",
       "\n",
       "    .dataframe tbody tr th {\n",
       "        vertical-align: top;\n",
       "    }\n",
       "\n",
       "    .dataframe thead th {\n",
       "        text-align: right;\n",
       "    }\n",
       "</style>\n",
       "<table border=\"1\" class=\"dataframe\">\n",
       "  <thead>\n",
       "    <tr style=\"text-align: right;\">\n",
       "      <th></th>\n",
       "      <th>LATITUDE</th>\n",
       "      <th>LONGITUDE</th>\n",
       "      <th>ADM3_PCODE</th>\n",
       "      <th>municipality</th>\n",
       "      <th>ADM3_EN</th>\n",
       "      <th>ADM3_UA</th>\n",
       "      <th>ADM3_RU</th>\n",
       "      <th>ADM2_EN</th>\n",
       "      <th>ADM2_UA</th>\n",
       "      <th>ADM2_RU</th>\n",
       "      <th>...</th>\n",
       "      <th>ADM1_PCODE</th>\n",
       "      <th>ADM0_EN</th>\n",
       "      <th>year</th>\n",
       "      <th>ACQ_TIME</th>\n",
       "      <th>date</th>\n",
       "      <th>pop_exact</th>\n",
       "      <th>state</th>\n",
       "      <th>geometry</th>\n",
       "      <th>geometry_buff</th>\n",
       "      <th>building_count</th>\n",
       "    </tr>\n",
       "  </thead>\n",
       "  <tbody>\n",
       "    <tr>\n",
       "      <th>0</th>\n",
       "      <td>45.30062</td>\n",
       "      <td>28.89845</td>\n",
       "      <td>UA5108003</td>\n",
       "      <td>UA5108003</td>\n",
       "      <td>Izmailska</td>\n",
       "      <td>Ізмаїльська</td>\n",
       "      <td>Измаильская</td>\n",
       "      <td>Izmailskyi</td>\n",
       "      <td>Ізмаїльський</td>\n",
       "      <td>Измаильский</td>\n",
       "      <td>...</td>\n",
       "      <td>UA51</td>\n",
       "      <td>Ukraine</td>\n",
       "      <td>2023</td>\n",
       "      <td>48</td>\n",
       "      <td>2023-08-02</td>\n",
       "      <td>280.977295</td>\n",
       "      <td>Odesa Oblast</td>\n",
       "      <td>POINT (2300456.403102858 3338797.1530194916)</td>\n",
       "      <td>POLYGON ((2300506.403102858 3338797.1530194916...</td>\n",
       "      <td>0.0</td>\n",
       "    </tr>\n",
       "    <tr>\n",
       "      <th>1</th>\n",
       "      <td>45.30187</td>\n",
       "      <td>28.90038</td>\n",
       "      <td>UA5108009</td>\n",
       "      <td>UA5108009</td>\n",
       "      <td>Safianivska</td>\n",
       "      <td>Саф'янівська</td>\n",
       "      <td>Сафьяновская</td>\n",
       "      <td>Izmailskyi</td>\n",
       "      <td>Ізмаїльський</td>\n",
       "      <td>Измаильский</td>\n",
       "      <td>...</td>\n",
       "      <td>UA51</td>\n",
       "      <td>Ukraine</td>\n",
       "      <td>2023</td>\n",
       "      <td>1155</td>\n",
       "      <td>2023-08-03</td>\n",
       "      <td>316.327911</td>\n",
       "      <td>Odesa Oblast</td>\n",
       "      <td>POINT (2300546.4663278293 3339036.818291042)</td>\n",
       "      <td>POLYGON ((2300596.4663278293 3339036.818291042...</td>\n",
       "      <td>0.0</td>\n",
       "    </tr>\n",
       "    <tr>\n",
       "      <th>2</th>\n",
       "      <td>45.30349</td>\n",
       "      <td>28.89518</td>\n",
       "      <td>UA5108003</td>\n",
       "      <td>UA5108003</td>\n",
       "      <td>Izmailska</td>\n",
       "      <td>Ізмаїльська</td>\n",
       "      <td>Измаильская</td>\n",
       "      <td>Izmailskyi</td>\n",
       "      <td>Ізмаїльський</td>\n",
       "      <td>Измаильский</td>\n",
       "      <td>...</td>\n",
       "      <td>UA51</td>\n",
       "      <td>Ukraine</td>\n",
       "      <td>2023</td>\n",
       "      <td>30</td>\n",
       "      <td>2023-08-03</td>\n",
       "      <td>280.977295</td>\n",
       "      <td>Odesa Oblast</td>\n",
       "      <td>POINT (2300803.3471947545 3338470.9640192464)</td>\n",
       "      <td>POLYGON ((2300853.3471947545 3338470.964019246...</td>\n",
       "      <td>0.0</td>\n",
       "    </tr>\n",
       "    <tr>\n",
       "      <th>3</th>\n",
       "      <td>45.30404</td>\n",
       "      <td>28.89320</td>\n",
       "      <td>UA5108003</td>\n",
       "      <td>UA5108003</td>\n",
       "      <td>Izmailska</td>\n",
       "      <td>Ізмаїльська</td>\n",
       "      <td>Измаильская</td>\n",
       "      <td>Izmailskyi</td>\n",
       "      <td>Ізмаїльський</td>\n",
       "      <td>Измаильский</td>\n",
       "      <td>...</td>\n",
       "      <td>UA51</td>\n",
       "      <td>Ukraine</td>\n",
       "      <td>2023</td>\n",
       "      <td>120</td>\n",
       "      <td>2023-08-03</td>\n",
       "      <td>280.977295</td>\n",
       "      <td>Odesa Oblast</td>\n",
       "      <td>POINT (2300894.4656776898 3338254.431632535)</td>\n",
       "      <td>POLYGON ((2300944.4656776898 3338254.431632535...</td>\n",
       "      <td>0.0</td>\n",
       "    </tr>\n",
       "    <tr>\n",
       "      <th>4</th>\n",
       "      <td>45.30515</td>\n",
       "      <td>28.90079</td>\n",
       "      <td>UA5108009</td>\n",
       "      <td>UA5108009</td>\n",
       "      <td>Safianivska</td>\n",
       "      <td>Саф'янівська</td>\n",
       "      <td>Сафьяновская</td>\n",
       "      <td>Izmailskyi</td>\n",
       "      <td>Ізмаїльський</td>\n",
       "      <td>Измаильский</td>\n",
       "      <td>...</td>\n",
       "      <td>UA51</td>\n",
       "      <td>Ukraine</td>\n",
       "      <td>2023</td>\n",
       "      <td>48</td>\n",
       "      <td>2023-08-02</td>\n",
       "      <td>316.327911</td>\n",
       "      <td>Odesa Oblast</td>\n",
       "      <td>POINT (2300867.4903393714 3339136.0154795544)</td>\n",
       "      <td>POLYGON ((2300917.4903393714 3339136.015479554...</td>\n",
       "      <td>0.0</td>\n",
       "    </tr>\n",
       "  </tbody>\n",
       "</table>\n",
       "<p>5 rows × 24 columns</p>\n",
       "</div>"
      ],
      "text/plain": [
       "   LATITUDE  LONGITUDE ADM3_PCODE municipality      ADM3_EN       ADM3_UA  \\\n",
       "0  45.30062   28.89845  UA5108003    UA5108003    Izmailska   Ізмаїльська   \n",
       "1  45.30187   28.90038  UA5108009    UA5108009  Safianivska  Саф'янівська   \n",
       "2  45.30349   28.89518  UA5108003    UA5108003    Izmailska   Ізмаїльська   \n",
       "3  45.30404   28.89320  UA5108003    UA5108003    Izmailska   Ізмаїльська   \n",
       "4  45.30515   28.90079  UA5108009    UA5108009  Safianivska  Саф'янівська   \n",
       "\n",
       "        ADM3_RU     ADM2_EN       ADM2_UA      ADM2_RU  ... ADM1_PCODE  \\\n",
       "0   Измаильская  Izmailskyi  Ізмаїльський  Измаильский  ...       UA51   \n",
       "1  Сафьяновская  Izmailskyi  Ізмаїльський  Измаильский  ...       UA51   \n",
       "2   Измаильская  Izmailskyi  Ізмаїльський  Измаильский  ...       UA51   \n",
       "3   Измаильская  Izmailskyi  Ізмаїльський  Измаильский  ...       UA51   \n",
       "4  Сафьяновская  Izmailskyi  Ізмаїльський  Измаильский  ...       UA51   \n",
       "\n",
       "   ADM0_EN  year ACQ_TIME        date   pop_exact         state  \\\n",
       "0  Ukraine  2023       48  2023-08-02  280.977295  Odesa Oblast   \n",
       "1  Ukraine  2023     1155  2023-08-03  316.327911  Odesa Oblast   \n",
       "2  Ukraine  2023       30  2023-08-03  280.977295  Odesa Oblast   \n",
       "3  Ukraine  2023      120  2023-08-03  280.977295  Odesa Oblast   \n",
       "4  Ukraine  2023       48  2023-08-02  316.327911  Odesa Oblast   \n",
       "\n",
       "                                        geometry  \\\n",
       "0   POINT (2300456.403102858 3338797.1530194916)   \n",
       "1   POINT (2300546.4663278293 3339036.818291042)   \n",
       "2  POINT (2300803.3471947545 3338470.9640192464)   \n",
       "3   POINT (2300894.4656776898 3338254.431632535)   \n",
       "4  POINT (2300867.4903393714 3339136.0154795544)   \n",
       "\n",
       "                                       geometry_buff  building_count  \n",
       "0  POLYGON ((2300506.403102858 3338797.1530194916...             0.0  \n",
       "1  POLYGON ((2300596.4663278293 3339036.818291042...             0.0  \n",
       "2  POLYGON ((2300853.3471947545 3338470.964019246...             0.0  \n",
       "3  POLYGON ((2300944.4656776898 3338254.431632535...             0.0  \n",
       "4  POLYGON ((2300917.4903393714 3339136.015479554...             0.0  \n",
       "\n",
       "[5 rows x 24 columns]"
      ]
     },
     "execution_count": 2,
     "metadata": {},
     "output_type": "execute_result"
    }
   ],
   "source": [
    "impacted_buildings_filename = \"./data/processed/buildings_impacted_by_war_fires.csv\"\n",
    "geo_warfires = pd.read_csv(impacted_buildings_filename)\n",
    "geo_warfires.head()"
   ]
  },
  {
   "cell_type": "markdown",
   "id": "0f43577c-5cce-470f-b45d-a10c1ed6bac2",
   "metadata": {
    "tags": []
   },
   "source": [
    "### Numbers of building that are affected by war fire (using Intersection of war_fires and buildings)"
   ]
  },
  {
   "cell_type": "code",
   "execution_count": 3,
   "id": "b0aca3a3-44b6-40c2-9033-a05c39dc379a",
   "metadata": {
    "tags": []
   },
   "outputs": [
    {
     "data": {
      "text/plain": [
       "array([ 0.,  3.,  1.,  2.,  6.,  4.,  5.,  8.,  7.,  9., 11., 10., 12.,\n",
       "       13., 14.])"
      ]
     },
     "execution_count": 3,
     "metadata": {},
     "output_type": "execute_result"
    }
   ],
   "source": [
    "geo_warfires['building_count'].unique()"
   ]
  },
  {
   "cell_type": "code",
   "execution_count": 23,
   "id": "ba7d0e51",
   "metadata": {},
   "outputs": [
    {
     "data": {
      "text/plain": [
       "(241, 24)"
      ]
     },
     "execution_count": 23,
     "metadata": {},
     "output_type": "execute_result"
    }
   ],
   "source": [
    "# Create a sum of the total number of buildings affected by the war fires\n",
    "geo_warfires[geo_warfires[\"ADM3_EN\"] == \"Iziumska\"]"
   ]
  },
  {
   "cell_type": "code",
   "execution_count": 13,
   "id": "e3814b2c",
   "metadata": {},
   "outputs": [
    {
     "data": {
      "text/plain": [
       "('2022-02-24', '2024-01-21')"
      ]
     },
     "execution_count": 13,
     "metadata": {},
     "output_type": "execute_result"
    }
   ],
   "source": [
    "geo_warfires.date\n",
    "\n",
    "# Get the earliest and latest dates of the war fires\n",
    "geo_warfires.date.min(), geo_warfires.date.max()"
   ]
  },
  {
   "cell_type": "markdown",
   "id": "a75c67bd-86ba-40a7-8576-d9a2d4316334",
   "metadata": {},
   "source": [
    "### Showing building_count based on geometry"
   ]
  },
  {
   "cell_type": "code",
   "execution_count": 24,
   "id": "35e64f26-e70b-4299-a45e-177446fc2cbc",
   "metadata": {
    "tags": []
   },
   "outputs": [],
   "source": [
    "\n",
    "\n",
    "# Filter out rows where building_count is not equal to 0\n",
    "filtered_data = geo_warfires[geo_warfires[\"ADM3_EN\"] == \"Lymanska\"]\n",
    "\n",
    "n = folium.Map(location=[filtered_data['LATITUDE'].mean(), filtered_data['LONGITUDE'].mean()], zoom_start=10)\n",
    "\n",
    "for index, row in filtered_data.iterrows():\n",
    "    folium.Marker(\n",
    "        [row['LATITUDE'], row['LONGITUDE']],\n",
    "        popup=f\"Building Count: {row['building_count']}\"\n",
    "    ).add_to(n)\n",
    "\n",
    "n.save(\"./notebooks/figures/ukr_warfire_build_count_markers2.html\")\n"
   ]
  },
  {
   "cell_type": "code",
   "execution_count": 25,
   "id": "802714fe",
   "metadata": {},
   "outputs": [
    {
     "data": {
      "text/plain": [
       "(241, 24)"
      ]
     },
     "execution_count": 25,
     "metadata": {},
     "output_type": "execute_result"
    }
   ],
   "source": [
    "filtered_data.shape"
   ]
  },
  {
   "cell_type": "markdown",
   "id": "a14a80ca-f25d-4875-ae46-48a2718079ef",
   "metadata": {},
   "source": [
    "### War fires with buff and number of buildings are affected"
   ]
  },
  {
   "cell_type": "code",
   "execution_count": 5,
   "id": "bd1d3a0b-92b6-4a08-b769-d7e26ce02d5f",
   "metadata": {
    "tags": []
   },
   "outputs": [],
   "source": [
    "import pandas as pd\n",
    "import folium\n",
    "\n",
    "\n",
    "# Filter out rows where building_count is greater than 0 and based on geometry_buff\n",
    "filtered_data = geo_warfires[(geo_warfires['building_count'] > 0) & (geo_warfires['geometry_buff'].notnull())]\n",
    "\n",
    "m = folium.Map(location=[filtered_data['LATITUDE'].mean(), filtered_data['LONGITUDE'].mean()], zoom_start=10)\n",
    "\n",
    "for index, row in filtered_data.iterrows():\n",
    "    folium.Circle(\n",
    "        radius=10,  # Adjust the radius of the circle as needed\n",
    "        location=[row['LATITUDE'], row['LONGITUDE']],\n",
    "        popup=f\"Building Count: {row['building_count']}\",\n",
    "        color='crimson',  # Color of the circle outline\n",
    "        fill=True,\n",
    "        fill_color='crimson'  # Fill color of the circle\n",
    "    ).add_to(m)\n",
    "\n",
    "m.save(\"./notebooks/figures/ukr_warfire_build_count_markers_with_geobuff.html\")\n",
    "\n",
    "m.save(\"./notebooks/figures/ukr_warfire_build_count.html\")\n"
   ]
  },
  {
   "cell_type": "code",
   "execution_count": 6,
   "metadata": {},
   "outputs": [
    {
     "name": "stdout",
     "output_type": "stream",
     "text": [
      "[NbConvertApp] Converting notebook ./notebooks/24_01_22-hh-building_count_full.ipynb to script\n",
      "/Users/harryhopalot/Documents/GitHub/dssd_Insulate_ukraine/.venv/lib/python3.11/site-packages/nbformat/__init__.py:93: MissingIDFieldWarning: Code cell is missing an id field, this will become a hard error in future nbformat versions. You may want to use `normalize()` on your notebooks before validations (available since nbformat 5.1.4). Previous versions of nbformat are fixing this issue transparently, and will stop doing so in the future.\n",
      "  validate(nb)\n",
      "[NbConvertApp] Writing 3660 bytes to notebooks/python_scripts/24_01_22-hh-building_count_full.py\n",
      "[NbConvertApp] Converting notebook ./notebooks/24_01_22-hh-buildings_impacted_by_war_fires.ipynb to script\n",
      "/Users/harryhopalot/Documents/GitHub/dssd_Insulate_ukraine/.venv/lib/python3.11/site-packages/nbformat/__init__.py:93: MissingIDFieldWarning: Code cell is missing an id field, this will become a hard error in future nbformat versions. You may want to use `normalize()` on your notebooks before validations (available since nbformat 5.1.4). Previous versions of nbformat are fixing this issue transparently, and will stop doing so in the future.\n",
      "  validate(nb)\n",
      "[NbConvertApp] Writing 8619 bytes to notebooks/python_scripts/24_01_22-hh-buildings_impacted_by_war_fires.py\n"
     ]
    }
   ],
   "source": [
    "# Convert to a python script and save in local folder\n",
    "!jupyter nbconvert --to script ./notebooks/*.ipynb --output-dir='./notebooks//python_scripts'"
   ]
  }
 ],
 "metadata": {
  "kernelspec": {
   "display_name": "Python 3 (ipykernel)",
   "language": "python",
   "name": "python3"
  },
  "language_info": {
   "codemirror_mode": {
    "name": "ipython",
    "version": 3
   },
   "file_extension": ".py",
   "mimetype": "text/x-python",
   "name": "python",
   "nbconvert_exporter": "python",
   "pygments_lexer": "ipython3",
   "version": "3.11.4"
  }
 },
 "nbformat": 4,
 "nbformat_minor": 5
}
