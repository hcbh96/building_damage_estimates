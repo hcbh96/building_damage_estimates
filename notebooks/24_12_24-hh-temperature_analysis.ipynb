{
 "cells": [
  {
   "cell_type": "markdown",
   "metadata": {},
   "source": [
    "# Download Data and Running Lux Experiments\n",
    "# =========================================\n",
    "\n",
    "In this file we will:\n",
    "1. Download the latest data from the Google Repository\n",
    "2. Run Various Tests on the Data as defined\n",
    "3. Produce plots that highlight the results of the tests\n",
    "\n",
    "The notebook is designed to compare the Lux results from a variety of different emergency window replacement kits."
   ]
  },
  {
   "cell_type": "code",
   "execution_count": 8,
   "metadata": {},
   "outputs": [
    {
     "name": "stdout",
     "output_type": "stream",
     "text": [
      "/Users/harryhopalot/Documents/GitHub/dssd_Insulate_ukraine\n"
     ]
    }
   ],
   "source": [
    "# Auto update notebook imports\n",
    "#%load_ext autoreload\n",
    "#%autoreload 2\n",
    "\n",
    "# Backtrack to folder source directory if it doesn't already exist in path\n",
    "import os\n",
    "import sys\n",
    "\n",
    "if os.path.basename(os.getcwd()) == \"notebooks\":\n",
    "    os.chdir(\"..\")\n",
    "\n",
    "sys.path.append(os.getcwd())\n",
    "print(os.getcwd())\n",
    "\n",
    "import pandas as pd\n",
    "import numpy as np\n",
    "import plotly.express as px\n",
    "import plotly.graph_objects as go\n",
    "\n",
    "from urllib.request import urlretrieve\n",
    "\n",
    "DEVELOPMENT = True\n",
    "\n",
    "raw_filepath = \"data/raw/\"\n",
    "interim_filepath = \"data/interim/\"\n",
    "external_filepath = \"data/external/\"\n",
    "processed_filepath = \"data/processed/\""
   ]
  },
  {
   "cell_type": "code",
   "execution_count": 19,
   "metadata": {},
   "outputs": [
    {
     "data": {
      "text/plain": [
       "('data/raw/temperature_values.csv', <http.client.HTTPMessage at 0x11fac7a10>)"
      ]
     },
     "execution_count": 19,
     "metadata": {},
     "output_type": "execute_result"
    }
   ],
   "source": [
    "# Filename \n",
    "url = \"https://docs.google.com/spreadsheets/d/e/2PACX-1vQb40H_HRBq-7bLcEHqEPB-qNep5Ls1a-Lha2rGnRKefccGXaphgTNvRg8LbA_uOB8Ws5sEo-G_Mn1Y/pub?gid=2106447875&single=true&output=csv\"\n",
    "filename = raw_filepath + \"temperature_values.csv\"\n",
    "# Use url request to download a file from the internet\n",
    "urlretrieve(url, filename)\n"
   ]
  },
  {
   "cell_type": "code",
   "execution_count": 45,
   "metadata": {},
   "outputs": [
    {
     "name": "stderr",
     "output_type": "stream",
     "text": [
      "/var/folders/yn/y0g2nf7d6tg_3p0ftb5f049c0000gn/T/ipykernel_25507/3593262376.py:2: UserWarning:\n",
      "\n",
      "Could not infer format, so each element will be parsed individually, falling back to `dateutil`. To ensure parsing is consistent and as-expected, please specify a format.\n",
      "\n"
     ]
    },
    {
     "data": {
      "text/html": [
       "<div>\n",
       "<style scoped>\n",
       "    .dataframe tbody tr th:only-of-type {\n",
       "        vertical-align: middle;\n",
       "    }\n",
       "\n",
       "    .dataframe tbody tr th {\n",
       "        vertical-align: top;\n",
       "    }\n",
       "\n",
       "    .dataframe thead th {\n",
       "        text-align: right;\n",
       "    }\n",
       "</style>\n",
       "<table border=\"1\" class=\"dataframe\">\n",
       "  <thead>\n",
       "    <tr style=\"text-align: right;\">\n",
       "      <th></th>\n",
       "      <th>window_type</th>\n",
       "      <th>internal_temp</th>\n",
       "      <th>external_temp</th>\n",
       "      <th>internal_surface_temp</th>\n",
       "      <th>external_surface_temp</th>\n",
       "    </tr>\n",
       "    <tr>\n",
       "      <th>house_id</th>\n",
       "      <th></th>\n",
       "      <th></th>\n",
       "      <th></th>\n",
       "      <th></th>\n",
       "      <th></th>\n",
       "    </tr>\n",
       "  </thead>\n",
       "  <tbody>\n",
       "    <tr>\n",
       "      <th>1</th>\n",
       "      <td>OSB</td>\n",
       "      <td>11.000000</td>\n",
       "      <td>6.666667</td>\n",
       "      <td>10.833333</td>\n",
       "      <td>7.333333</td>\n",
       "    </tr>\n",
       "    <tr>\n",
       "      <th>2</th>\n",
       "      <td>IU</td>\n",
       "      <td>20.666667</td>\n",
       "      <td>8.000000</td>\n",
       "      <td>17.666667</td>\n",
       "      <td>10.000000</td>\n",
       "    </tr>\n",
       "    <tr>\n",
       "      <th>3</th>\n",
       "      <td>UN</td>\n",
       "      <td>10.666667</td>\n",
       "      <td>3.000000</td>\n",
       "      <td>9.000000</td>\n",
       "      <td>3.500000</td>\n",
       "    </tr>\n",
       "    <tr>\n",
       "      <th>4</th>\n",
       "      <td>DOUBLE_GLAZED</td>\n",
       "      <td>8.666667</td>\n",
       "      <td>6.500000</td>\n",
       "      <td>11.000000</td>\n",
       "      <td>6.666667</td>\n",
       "    </tr>\n",
       "  </tbody>\n",
       "</table>\n",
       "</div>"
      ],
      "text/plain": [
       "            window_type  internal_temp  external_temp  internal_surface_temp  \\\n",
       "house_id                                                                       \n",
       "1                   OSB      11.000000       6.666667              10.833333   \n",
       "2                    IU      20.666667       8.000000              17.666667   \n",
       "3                    UN      10.666667       3.000000               9.000000   \n",
       "4         DOUBLE_GLAZED       8.666667       6.500000              11.000000   \n",
       "\n",
       "          external_surface_temp  \n",
       "house_id                         \n",
       "1                      7.333333  \n",
       "2                     10.000000  \n",
       "3                      3.500000  \n",
       "4                      6.666667  "
      ]
     },
     "execution_count": 45,
     "metadata": {},
     "output_type": "execute_result"
    }
   ],
   "source": [
    "# Read in the lux values\n",
    "temp = pd.read_csv(filename, index_col=0, parse_dates=True)\n",
    "\n",
    " # Reduce the number of columns by taking the mean of the three sensors\n",
    "columns = [\"internal_temp\", \"external_temp\", \"internal_surface_temp\", \"external_surface_temp\"]\n",
    "for column in columns:\n",
    "    temp[column] = temp[[column + \"_1\", column + \"_2\", column + \"_3\"]].mean(axis=1)\n",
    "    temp = temp.drop([column + \"_1\", column + \"_2\", column + \"_3\"], axis=1)\n",
    "\n",
    "temp.head()"
   ]
  },
  {
   "cell_type": "code",
   "execution_count": 46,
   "metadata": {},
   "outputs": [],
   "source": [
    "# This code is here to allow me to ensure that plots we produce will suffice\n",
    "if DEVELOPMENT:\n",
    "    new_temp = temp.copy()\n",
    "    # Repeat the following 30 times\n",
    "    for i in range(29):\n",
    "        # For each row in df\n",
    "        for idx, row in temp.iterrows():\n",
    "            window_type = row[\"window_type\"]\n",
    "            internal_temp = row[\"internal_temp\"]\n",
    "            external_temp = row[\"external_temp\"]\n",
    "            internal_surface_temp = row[\"internal_surface_temp\"]\n",
    "            external_surface_temp = row[\"external_surface_temp\"]\n",
    "\n",
    "            # Create a new row with the same window type and add some gaussian noise to the temperature values\n",
    "            new_row = pd.DataFrame([[window_type, internal_temp + np.random.normal(), external_temp + np.random.normal(), internal_surface_temp + np.random.normal(), external_surface_temp + np.random.normal()]], columns=temp.columns)\n",
    "            # Append the new row to the new_temp dataframe\n",
    "            new_temp = pd.concat([new_temp, new_row], ignore_index=True)\n",
    "\n",
    "    temp = new_temp"
   ]
  },
  {
   "cell_type": "code",
   "execution_count": 47,
   "metadata": {},
   "outputs": [
    {
     "data": {
      "text/html": [
       "<div>\n",
       "<style scoped>\n",
       "    .dataframe tbody tr th:only-of-type {\n",
       "        vertical-align: middle;\n",
       "    }\n",
       "\n",
       "    .dataframe tbody tr th {\n",
       "        vertical-align: top;\n",
       "    }\n",
       "\n",
       "    .dataframe thead th {\n",
       "        text-align: right;\n",
       "    }\n",
       "</style>\n",
       "<table border=\"1\" class=\"dataframe\">\n",
       "  <thead>\n",
       "    <tr style=\"text-align: right;\">\n",
       "      <th></th>\n",
       "      <th>window_type</th>\n",
       "      <th>internal_temp</th>\n",
       "      <th>external_temp</th>\n",
       "      <th>internal_surface_temp</th>\n",
       "      <th>external_surface_temp</th>\n",
       "      <th>delta_temp</th>\n",
       "    </tr>\n",
       "  </thead>\n",
       "  <tbody>\n",
       "    <tr>\n",
       "      <th>0</th>\n",
       "      <td>OSB</td>\n",
       "      <td>11.000000</td>\n",
       "      <td>6.666667</td>\n",
       "      <td>10.833333</td>\n",
       "      <td>7.333333</td>\n",
       "      <td>0.807692</td>\n",
       "    </tr>\n",
       "    <tr>\n",
       "      <th>1</th>\n",
       "      <td>IU</td>\n",
       "      <td>20.666667</td>\n",
       "      <td>8.000000</td>\n",
       "      <td>17.666667</td>\n",
       "      <td>10.000000</td>\n",
       "      <td>0.605263</td>\n",
       "    </tr>\n",
       "    <tr>\n",
       "      <th>2</th>\n",
       "      <td>UN</td>\n",
       "      <td>10.666667</td>\n",
       "      <td>3.000000</td>\n",
       "      <td>9.000000</td>\n",
       "      <td>3.500000</td>\n",
       "      <td>0.717391</td>\n",
       "    </tr>\n",
       "    <tr>\n",
       "      <th>3</th>\n",
       "      <td>DOUBLE_GLAZED</td>\n",
       "      <td>8.666667</td>\n",
       "      <td>6.500000</td>\n",
       "      <td>11.000000</td>\n",
       "      <td>6.666667</td>\n",
       "      <td>2.000000</td>\n",
       "    </tr>\n",
       "    <tr>\n",
       "      <th>4</th>\n",
       "      <td>OSB</td>\n",
       "      <td>9.604962</td>\n",
       "      <td>6.329379</td>\n",
       "      <td>11.604082</td>\n",
       "      <td>7.101668</td>\n",
       "      <td>1.374538</td>\n",
       "    </tr>\n",
       "    <tr>\n",
       "      <th>5</th>\n",
       "      <td>IU</td>\n",
       "      <td>20.208719</td>\n",
       "      <td>7.299661</td>\n",
       "      <td>19.815345</td>\n",
       "      <td>11.209884</td>\n",
       "      <td>0.666622</td>\n",
       "    </tr>\n",
       "    <tr>\n",
       "      <th>6</th>\n",
       "      <td>UN</td>\n",
       "      <td>11.192397</td>\n",
       "      <td>0.650434</td>\n",
       "      <td>8.434780</td>\n",
       "      <td>4.356504</td>\n",
       "      <td>0.386861</td>\n",
       "    </tr>\n",
       "    <tr>\n",
       "      <th>7</th>\n",
       "      <td>DOUBLE_GLAZED</td>\n",
       "      <td>9.194203</td>\n",
       "      <td>6.254086</td>\n",
       "      <td>11.674756</td>\n",
       "      <td>6.517331</td>\n",
       "      <td>1.754156</td>\n",
       "    </tr>\n",
       "    <tr>\n",
       "      <th>8</th>\n",
       "      <td>OSB</td>\n",
       "      <td>10.454432</td>\n",
       "      <td>6.238682</td>\n",
       "      <td>9.122608</td>\n",
       "      <td>5.367711</td>\n",
       "      <td>0.890683</td>\n",
       "    </tr>\n",
       "    <tr>\n",
       "      <th>9</th>\n",
       "      <td>IU</td>\n",
       "      <td>19.167626</td>\n",
       "      <td>6.056010</td>\n",
       "      <td>14.969834</td>\n",
       "      <td>9.644246</td>\n",
       "      <td>0.406173</td>\n",
       "    </tr>\n",
       "  </tbody>\n",
       "</table>\n",
       "</div>"
      ],
      "text/plain": [
       "     window_type  internal_temp  external_temp  internal_surface_temp  \\\n",
       "0            OSB      11.000000       6.666667              10.833333   \n",
       "1             IU      20.666667       8.000000              17.666667   \n",
       "2             UN      10.666667       3.000000               9.000000   \n",
       "3  DOUBLE_GLAZED       8.666667       6.500000              11.000000   \n",
       "4            OSB       9.604962       6.329379              11.604082   \n",
       "5             IU      20.208719       7.299661              19.815345   \n",
       "6             UN      11.192397       0.650434               8.434780   \n",
       "7  DOUBLE_GLAZED       9.194203       6.254086              11.674756   \n",
       "8            OSB      10.454432       6.238682               9.122608   \n",
       "9             IU      19.167626       6.056010              14.969834   \n",
       "\n",
       "   external_surface_temp  delta_temp  \n",
       "0               7.333333    0.807692  \n",
       "1              10.000000    0.605263  \n",
       "2               3.500000    0.717391  \n",
       "3               6.666667    2.000000  \n",
       "4               7.101668    1.374538  \n",
       "5              11.209884    0.666622  \n",
       "6               4.356504    0.386861  \n",
       "7               6.517331    1.754156  \n",
       "8               5.367711    0.890683  \n",
       "9               9.644246    0.406173  "
      ]
     },
     "execution_count": 47,
     "metadata": {},
     "output_type": "execute_result"
    }
   ],
   "source": [
    "# For each row caluclate the difference between (internal_surface_temp - external_surface_temp)/(internal_temp - external_temp)\n",
    "temp[\"delta_temp\"] = (temp[\"internal_surface_temp\"] - temp[\"external_surface_temp\"])/(temp[\"internal_temp\"] - temp[\"external_temp\"])\n",
    "temp.head(10)"
   ]
  },
  {
   "cell_type": "code",
   "execution_count": 52,
   "metadata": {},
   "outputs": [
    {
     "data": {
      "application/vnd.plotly.v1+json": {
       "config": {
        "plotlyServerURL": "https://plot.ly"
       },
       "data": [
        {
         "alignmentgroup": "True",
         "hovertemplate": "window_type=%{x}<br>delta_temp=%{y}<extra></extra>",
         "legendgroup": "",
         "marker": {
          "color": "#636efa"
         },
         "name": "",
         "notched": false,
         "offsetgroup": "",
         "orientation": "v",
         "showlegend": false,
         "type": "box",
         "x": [
          "OSB",
          "IU",
          "UN",
          "DOUBLE_GLAZED",
          "OSB",
          "IU",
          "UN",
          "DOUBLE_GLAZED",
          "OSB",
          "IU",
          "UN",
          "DOUBLE_GLAZED",
          "OSB",
          "IU",
          "UN",
          "DOUBLE_GLAZED",
          "OSB",
          "IU",
          "UN",
          "DOUBLE_GLAZED",
          "OSB",
          "IU",
          "UN",
          "DOUBLE_GLAZED",
          "OSB",
          "IU",
          "UN",
          "DOUBLE_GLAZED",
          "OSB",
          "IU",
          "UN",
          "DOUBLE_GLAZED",
          "OSB",
          "IU",
          "UN",
          "DOUBLE_GLAZED",
          "OSB",
          "IU",
          "UN",
          "DOUBLE_GLAZED",
          "OSB",
          "IU",
          "UN",
          "DOUBLE_GLAZED",
          "OSB",
          "IU",
          "UN",
          "DOUBLE_GLAZED",
          "OSB",
          "IU",
          "UN",
          "DOUBLE_GLAZED",
          "OSB",
          "IU",
          "UN",
          "DOUBLE_GLAZED",
          "OSB",
          "IU",
          "UN",
          "DOUBLE_GLAZED",
          "OSB",
          "IU",
          "UN",
          "DOUBLE_GLAZED",
          "OSB",
          "IU",
          "UN",
          "DOUBLE_GLAZED",
          "OSB",
          "IU",
          "UN",
          "DOUBLE_GLAZED",
          "OSB",
          "IU",
          "UN",
          "DOUBLE_GLAZED",
          "OSB",
          "IU",
          "UN",
          "DOUBLE_GLAZED",
          "OSB",
          "IU",
          "UN",
          "DOUBLE_GLAZED",
          "OSB",
          "IU",
          "UN",
          "DOUBLE_GLAZED",
          "OSB",
          "IU",
          "UN",
          "DOUBLE_GLAZED",
          "OSB",
          "IU",
          "UN",
          "DOUBLE_GLAZED",
          "OSB",
          "IU",
          "UN",
          "DOUBLE_GLAZED",
          "OSB",
          "IU",
          "UN",
          "DOUBLE_GLAZED",
          "OSB",
          "IU",
          "UN",
          "DOUBLE_GLAZED",
          "OSB",
          "IU",
          "UN",
          "DOUBLE_GLAZED",
          "OSB",
          "IU",
          "UN",
          "DOUBLE_GLAZED",
          "OSB",
          "IU",
          "UN",
          "DOUBLE_GLAZED"
         ],
         "x0": " ",
         "xaxis": "x",
         "y": [
          0.8076923076923079,
          0.6052631578947368,
          0.7173913043478262,
          2.0000000000000004,
          1.3745382682586715,
          0.6666218860544096,
          0.3868611868640002,
          1.7541564540607357,
          0.890683092078948,
          0.4061732833112987,
          0.8624399820798564,
          1.7211438646660282,
          8.691945659645572,
          0.44984911731983784,
          0.6284080235207266,
          2.799116994005408,
          0.519648662895507,
          0.5231974725200096,
          0.7336496420748815,
          1.944651055264844,
          0.9753448715108985,
          0.6720718310647333,
          0.6566079261904306,
          2.2693756020639824,
          0.8094739721519075,
          0.788837860657446,
          0.3789894065734681,
          1.2911991232660602,
          1.1430578727514769,
          0.5253159549140501,
          0.9209746667810722,
          4.299668252224464,
          1.0331379159404999,
          0.7674315192872846,
          0.6054870889209987,
          1.233301860156652,
          1.1036254322825965,
          0.6900030045404778,
          0.8247276843572703,
          1.5394030678397583,
          1.5515523462544178,
          0.29465100617297435,
          1.0874806473849385,
          1.2381641036438675,
          2.3983479368864224,
          0.4007111262771831,
          0.8629927082384209,
          2.2059584691125074,
          2.120391009350203,
          0.6163024652217061,
          0.9261633909185001,
          1.6912006195160951,
          0.6729808837188523,
          0.49035285464516687,
          0.7903566847019348,
          1.709408241247068,
          1.29300749460695,
          0.7836909669508796,
          0.3625746752906005,
          2.127898488385619,
          0.37399397025940184,
          0.7529711981564418,
          0.7902259718746969,
          16.051388872367397,
          0.23460505050823613,
          0.688520374364765,
          0.6805042201449379,
          1.8579963655555656,
          0.7801022644831452,
          0.5533901035155836,
          1.1075774024663916,
          5.716821302794822,
          2.2958982086189024,
          0.5851908007078387,
          0.6342152702308098,
          0.8566789162277338,
          0.8518415805862828,
          0.668326461472688,
          0.7402988087151641,
          1.4629567011107452,
          0.4265650544797674,
          0.677452139228542,
          1.1577257516525274,
          1.7303659360891437,
          1.3140685448252132,
          0.4458910342256403,
          0.3042952133365391,
          2.4735667553646987,
          1.3592031800853703,
          0.39753730230155876,
          0.426206310837227,
          2.000606461083254,
          0.7381368401868234,
          0.5796460692057709,
          0.49389303114805,
          5.489650645701455,
          0.5050646430394719,
          1.0396870826914417,
          0.28275180644590864,
          2.3678412109717843,
          0.3685848005037557,
          0.5692943550068583,
          0.7832774825474167,
          0.5240053817961958,
          1.5241184207597438,
          0.6027285040238881,
          0.9680427751741453,
          1.1793587943414465,
          1.0247768840576372,
          0.5640012405442902,
          1.1381887541809144,
          1.927997807156439,
          0.579087809325356,
          0.5623762292111216,
          0.5032125795756051,
          2.6511109569280773,
          0.7846482812323463,
          0.7521108467061821,
          1.487540846307728,
          0.7161563022155409
         ],
         "y0": " ",
         "yaxis": "y"
        }
       ],
       "layout": {
        "boxmode": "group",
        "legend": {
         "tracegroupgap": 0
        },
        "template": {
         "data": {
          "bar": [
           {
            "error_x": {
             "color": "#2a3f5f"
            },
            "error_y": {
             "color": "#2a3f5f"
            },
            "marker": {
             "line": {
              "color": "#E5ECF6",
              "width": 0.5
             },
             "pattern": {
              "fillmode": "overlay",
              "size": 10,
              "solidity": 0.2
             }
            },
            "type": "bar"
           }
          ],
          "barpolar": [
           {
            "marker": {
             "line": {
              "color": "#E5ECF6",
              "width": 0.5
             },
             "pattern": {
              "fillmode": "overlay",
              "size": 10,
              "solidity": 0.2
             }
            },
            "type": "barpolar"
           }
          ],
          "carpet": [
           {
            "aaxis": {
             "endlinecolor": "#2a3f5f",
             "gridcolor": "white",
             "linecolor": "white",
             "minorgridcolor": "white",
             "startlinecolor": "#2a3f5f"
            },
            "baxis": {
             "endlinecolor": "#2a3f5f",
             "gridcolor": "white",
             "linecolor": "white",
             "minorgridcolor": "white",
             "startlinecolor": "#2a3f5f"
            },
            "type": "carpet"
           }
          ],
          "choropleth": [
           {
            "colorbar": {
             "outlinewidth": 0,
             "ticks": ""
            },
            "type": "choropleth"
           }
          ],
          "contour": [
           {
            "colorbar": {
             "outlinewidth": 0,
             "ticks": ""
            },
            "colorscale": [
             [
              0,
              "#0d0887"
             ],
             [
              0.1111111111111111,
              "#46039f"
             ],
             [
              0.2222222222222222,
              "#7201a8"
             ],
             [
              0.3333333333333333,
              "#9c179e"
             ],
             [
              0.4444444444444444,
              "#bd3786"
             ],
             [
              0.5555555555555556,
              "#d8576b"
             ],
             [
              0.6666666666666666,
              "#ed7953"
             ],
             [
              0.7777777777777778,
              "#fb9f3a"
             ],
             [
              0.8888888888888888,
              "#fdca26"
             ],
             [
              1,
              "#f0f921"
             ]
            ],
            "type": "contour"
           }
          ],
          "contourcarpet": [
           {
            "colorbar": {
             "outlinewidth": 0,
             "ticks": ""
            },
            "type": "contourcarpet"
           }
          ],
          "heatmap": [
           {
            "colorbar": {
             "outlinewidth": 0,
             "ticks": ""
            },
            "colorscale": [
             [
              0,
              "#0d0887"
             ],
             [
              0.1111111111111111,
              "#46039f"
             ],
             [
              0.2222222222222222,
              "#7201a8"
             ],
             [
              0.3333333333333333,
              "#9c179e"
             ],
             [
              0.4444444444444444,
              "#bd3786"
             ],
             [
              0.5555555555555556,
              "#d8576b"
             ],
             [
              0.6666666666666666,
              "#ed7953"
             ],
             [
              0.7777777777777778,
              "#fb9f3a"
             ],
             [
              0.8888888888888888,
              "#fdca26"
             ],
             [
              1,
              "#f0f921"
             ]
            ],
            "type": "heatmap"
           }
          ],
          "heatmapgl": [
           {
            "colorbar": {
             "outlinewidth": 0,
             "ticks": ""
            },
            "colorscale": [
             [
              0,
              "#0d0887"
             ],
             [
              0.1111111111111111,
              "#46039f"
             ],
             [
              0.2222222222222222,
              "#7201a8"
             ],
             [
              0.3333333333333333,
              "#9c179e"
             ],
             [
              0.4444444444444444,
              "#bd3786"
             ],
             [
              0.5555555555555556,
              "#d8576b"
             ],
             [
              0.6666666666666666,
              "#ed7953"
             ],
             [
              0.7777777777777778,
              "#fb9f3a"
             ],
             [
              0.8888888888888888,
              "#fdca26"
             ],
             [
              1,
              "#f0f921"
             ]
            ],
            "type": "heatmapgl"
           }
          ],
          "histogram": [
           {
            "marker": {
             "pattern": {
              "fillmode": "overlay",
              "size": 10,
              "solidity": 0.2
             }
            },
            "type": "histogram"
           }
          ],
          "histogram2d": [
           {
            "colorbar": {
             "outlinewidth": 0,
             "ticks": ""
            },
            "colorscale": [
             [
              0,
              "#0d0887"
             ],
             [
              0.1111111111111111,
              "#46039f"
             ],
             [
              0.2222222222222222,
              "#7201a8"
             ],
             [
              0.3333333333333333,
              "#9c179e"
             ],
             [
              0.4444444444444444,
              "#bd3786"
             ],
             [
              0.5555555555555556,
              "#d8576b"
             ],
             [
              0.6666666666666666,
              "#ed7953"
             ],
             [
              0.7777777777777778,
              "#fb9f3a"
             ],
             [
              0.8888888888888888,
              "#fdca26"
             ],
             [
              1,
              "#f0f921"
             ]
            ],
            "type": "histogram2d"
           }
          ],
          "histogram2dcontour": [
           {
            "colorbar": {
             "outlinewidth": 0,
             "ticks": ""
            },
            "colorscale": [
             [
              0,
              "#0d0887"
             ],
             [
              0.1111111111111111,
              "#46039f"
             ],
             [
              0.2222222222222222,
              "#7201a8"
             ],
             [
              0.3333333333333333,
              "#9c179e"
             ],
             [
              0.4444444444444444,
              "#bd3786"
             ],
             [
              0.5555555555555556,
              "#d8576b"
             ],
             [
              0.6666666666666666,
              "#ed7953"
             ],
             [
              0.7777777777777778,
              "#fb9f3a"
             ],
             [
              0.8888888888888888,
              "#fdca26"
             ],
             [
              1,
              "#f0f921"
             ]
            ],
            "type": "histogram2dcontour"
           }
          ],
          "mesh3d": [
           {
            "colorbar": {
             "outlinewidth": 0,
             "ticks": ""
            },
            "type": "mesh3d"
           }
          ],
          "parcoords": [
           {
            "line": {
             "colorbar": {
              "outlinewidth": 0,
              "ticks": ""
             }
            },
            "type": "parcoords"
           }
          ],
          "pie": [
           {
            "automargin": true,
            "type": "pie"
           }
          ],
          "scatter": [
           {
            "fillpattern": {
             "fillmode": "overlay",
             "size": 10,
             "solidity": 0.2
            },
            "type": "scatter"
           }
          ],
          "scatter3d": [
           {
            "line": {
             "colorbar": {
              "outlinewidth": 0,
              "ticks": ""
             }
            },
            "marker": {
             "colorbar": {
              "outlinewidth": 0,
              "ticks": ""
             }
            },
            "type": "scatter3d"
           }
          ],
          "scattercarpet": [
           {
            "marker": {
             "colorbar": {
              "outlinewidth": 0,
              "ticks": ""
             }
            },
            "type": "scattercarpet"
           }
          ],
          "scattergeo": [
           {
            "marker": {
             "colorbar": {
              "outlinewidth": 0,
              "ticks": ""
             }
            },
            "type": "scattergeo"
           }
          ],
          "scattergl": [
           {
            "marker": {
             "colorbar": {
              "outlinewidth": 0,
              "ticks": ""
             }
            },
            "type": "scattergl"
           }
          ],
          "scattermapbox": [
           {
            "marker": {
             "colorbar": {
              "outlinewidth": 0,
              "ticks": ""
             }
            },
            "type": "scattermapbox"
           }
          ],
          "scatterpolar": [
           {
            "marker": {
             "colorbar": {
              "outlinewidth": 0,
              "ticks": ""
             }
            },
            "type": "scatterpolar"
           }
          ],
          "scatterpolargl": [
           {
            "marker": {
             "colorbar": {
              "outlinewidth": 0,
              "ticks": ""
             }
            },
            "type": "scatterpolargl"
           }
          ],
          "scatterternary": [
           {
            "marker": {
             "colorbar": {
              "outlinewidth": 0,
              "ticks": ""
             }
            },
            "type": "scatterternary"
           }
          ],
          "surface": [
           {
            "colorbar": {
             "outlinewidth": 0,
             "ticks": ""
            },
            "colorscale": [
             [
              0,
              "#0d0887"
             ],
             [
              0.1111111111111111,
              "#46039f"
             ],
             [
              0.2222222222222222,
              "#7201a8"
             ],
             [
              0.3333333333333333,
              "#9c179e"
             ],
             [
              0.4444444444444444,
              "#bd3786"
             ],
             [
              0.5555555555555556,
              "#d8576b"
             ],
             [
              0.6666666666666666,
              "#ed7953"
             ],
             [
              0.7777777777777778,
              "#fb9f3a"
             ],
             [
              0.8888888888888888,
              "#fdca26"
             ],
             [
              1,
              "#f0f921"
             ]
            ],
            "type": "surface"
           }
          ],
          "table": [
           {
            "cells": {
             "fill": {
              "color": "#EBF0F8"
             },
             "line": {
              "color": "white"
             }
            },
            "header": {
             "fill": {
              "color": "#C8D4E3"
             },
             "line": {
              "color": "white"
             }
            },
            "type": "table"
           }
          ]
         },
         "layout": {
          "annotationdefaults": {
           "arrowcolor": "#2a3f5f",
           "arrowhead": 0,
           "arrowwidth": 1
          },
          "autotypenumbers": "strict",
          "coloraxis": {
           "colorbar": {
            "outlinewidth": 0,
            "ticks": ""
           }
          },
          "colorscale": {
           "diverging": [
            [
             0,
             "#8e0152"
            ],
            [
             0.1,
             "#c51b7d"
            ],
            [
             0.2,
             "#de77ae"
            ],
            [
             0.3,
             "#f1b6da"
            ],
            [
             0.4,
             "#fde0ef"
            ],
            [
             0.5,
             "#f7f7f7"
            ],
            [
             0.6,
             "#e6f5d0"
            ],
            [
             0.7,
             "#b8e186"
            ],
            [
             0.8,
             "#7fbc41"
            ],
            [
             0.9,
             "#4d9221"
            ],
            [
             1,
             "#276419"
            ]
           ],
           "sequential": [
            [
             0,
             "#0d0887"
            ],
            [
             0.1111111111111111,
             "#46039f"
            ],
            [
             0.2222222222222222,
             "#7201a8"
            ],
            [
             0.3333333333333333,
             "#9c179e"
            ],
            [
             0.4444444444444444,
             "#bd3786"
            ],
            [
             0.5555555555555556,
             "#d8576b"
            ],
            [
             0.6666666666666666,
             "#ed7953"
            ],
            [
             0.7777777777777778,
             "#fb9f3a"
            ],
            [
             0.8888888888888888,
             "#fdca26"
            ],
            [
             1,
             "#f0f921"
            ]
           ],
           "sequentialminus": [
            [
             0,
             "#0d0887"
            ],
            [
             0.1111111111111111,
             "#46039f"
            ],
            [
             0.2222222222222222,
             "#7201a8"
            ],
            [
             0.3333333333333333,
             "#9c179e"
            ],
            [
             0.4444444444444444,
             "#bd3786"
            ],
            [
             0.5555555555555556,
             "#d8576b"
            ],
            [
             0.6666666666666666,
             "#ed7953"
            ],
            [
             0.7777777777777778,
             "#fb9f3a"
            ],
            [
             0.8888888888888888,
             "#fdca26"
            ],
            [
             1,
             "#f0f921"
            ]
           ]
          },
          "colorway": [
           "#636efa",
           "#EF553B",
           "#00cc96",
           "#ab63fa",
           "#FFA15A",
           "#19d3f3",
           "#FF6692",
           "#B6E880",
           "#FF97FF",
           "#FECB52"
          ],
          "font": {
           "color": "#2a3f5f"
          },
          "geo": {
           "bgcolor": "white",
           "lakecolor": "white",
           "landcolor": "#E5ECF6",
           "showlakes": true,
           "showland": true,
           "subunitcolor": "white"
          },
          "hoverlabel": {
           "align": "left"
          },
          "hovermode": "closest",
          "mapbox": {
           "style": "light"
          },
          "paper_bgcolor": "white",
          "plot_bgcolor": "#E5ECF6",
          "polar": {
           "angularaxis": {
            "gridcolor": "white",
            "linecolor": "white",
            "ticks": ""
           },
           "bgcolor": "#E5ECF6",
           "radialaxis": {
            "gridcolor": "white",
            "linecolor": "white",
            "ticks": ""
           }
          },
          "scene": {
           "xaxis": {
            "backgroundcolor": "#E5ECF6",
            "gridcolor": "white",
            "gridwidth": 2,
            "linecolor": "white",
            "showbackground": true,
            "ticks": "",
            "zerolinecolor": "white"
           },
           "yaxis": {
            "backgroundcolor": "#E5ECF6",
            "gridcolor": "white",
            "gridwidth": 2,
            "linecolor": "white",
            "showbackground": true,
            "ticks": "",
            "zerolinecolor": "white"
           },
           "zaxis": {
            "backgroundcolor": "#E5ECF6",
            "gridcolor": "white",
            "gridwidth": 2,
            "linecolor": "white",
            "showbackground": true,
            "ticks": "",
            "zerolinecolor": "white"
           }
          },
          "shapedefaults": {
           "line": {
            "color": "#2a3f5f"
           }
          },
          "ternary": {
           "aaxis": {
            "gridcolor": "white",
            "linecolor": "white",
            "ticks": ""
           },
           "baxis": {
            "gridcolor": "white",
            "linecolor": "white",
            "ticks": ""
           },
           "bgcolor": "#E5ECF6",
           "caxis": {
            "gridcolor": "white",
            "linecolor": "white",
            "ticks": ""
           }
          },
          "title": {
           "x": 0.05
          },
          "xaxis": {
           "automargin": true,
           "gridcolor": "white",
           "linecolor": "white",
           "ticks": "",
           "title": {
            "standoff": 15
           },
           "zerolinecolor": "white",
           "zerolinewidth": 2
          },
          "yaxis": {
           "automargin": true,
           "gridcolor": "white",
           "linecolor": "white",
           "ticks": "",
           "title": {
            "standoff": 15
           },
           "zerolinecolor": "white",
           "zerolinewidth": 2
          }
         }
        },
        "title": {
         "text": "Temperature Delta of Each Window Type"
        },
        "xaxis": {
         "anchor": "y",
         "domain": [
          0,
          1
         ],
         "title": {
          "text": "Window Type"
         }
        },
        "yaxis": {
         "anchor": "x",
         "domain": [
          0,
          1
         ],
         "title": {
          "text": "Temperature Delta"
         }
        }
       }
      }
     },
     "metadata": {},
     "output_type": "display_data"
    }
   ],
   "source": [
    "# Create and plot descriptive statistics of the temperature deltas\n",
    "temp_stats = temp.groupby(\"window_type\").describe()[\"delta_temp\"]\n",
    "temp_stats.head()\n",
    "\n",
    "# Use temp stats to plot a box plot of the temperature deltas of each window type\n",
    "fig = px.box(temp, x=temp.window_type, y=\"delta_temp\", title=\"Temperature Delta of Each Window Type\")\n",
    "fig.update_layout(xaxis_title=\"Window Type\", yaxis_title=\"Temperature Delta\")\n",
    "fig.show()\n",
    "\n"
   ]
  },
  {
   "cell_type": "code",
   "execution_count": 27,
   "metadata": {},
   "outputs": [
    {
     "data": {
      "text/html": [
       "<div>\n",
       "<style scoped>\n",
       "    .dataframe tbody tr th:only-of-type {\n",
       "        vertical-align: middle;\n",
       "    }\n",
       "\n",
       "    .dataframe tbody tr th {\n",
       "        vertical-align: top;\n",
       "    }\n",
       "\n",
       "    .dataframe thead th {\n",
       "        text-align: right;\n",
       "    }\n",
       "</style>\n",
       "<table border=\"1\" class=\"dataframe\">\n",
       "  <thead>\n",
       "    <tr style=\"text-align: right;\">\n",
       "      <th></th>\n",
       "      <th>House ID</th>\n",
       "      <th>internal_temp</th>\n",
       "      <th>external_temp</th>\n",
       "      <th>internal_surface_temp</th>\n",
       "      <th>external_surface_temp</th>\n",
       "      <th>delta_temp</th>\n",
       "    </tr>\n",
       "  </thead>\n",
       "  <tbody>\n",
       "    <tr>\n",
       "      <th>count</th>\n",
       "      <td>4.000000</td>\n",
       "      <td>4.000000</td>\n",
       "      <td>4.000000</td>\n",
       "      <td>4.000000</td>\n",
       "      <td>4.000000</td>\n",
       "      <td>4.000000</td>\n",
       "    </tr>\n",
       "    <tr>\n",
       "      <th>mean</th>\n",
       "      <td>2.500000</td>\n",
       "      <td>12.750000</td>\n",
       "      <td>6.041667</td>\n",
       "      <td>12.125000</td>\n",
       "      <td>6.875000</td>\n",
       "      <td>1.032587</td>\n",
       "    </tr>\n",
       "    <tr>\n",
       "      <th>std</th>\n",
       "      <td>1.290994</td>\n",
       "      <td>5.377422</td>\n",
       "      <td>2.136001</td>\n",
       "      <td>3.803933</td>\n",
       "      <td>2.671437</td>\n",
       "      <td>0.650236</td>\n",
       "    </tr>\n",
       "    <tr>\n",
       "      <th>min</th>\n",
       "      <td>1.000000</td>\n",
       "      <td>8.666667</td>\n",
       "      <td>3.000000</td>\n",
       "      <td>9.000000</td>\n",
       "      <td>3.500000</td>\n",
       "      <td>0.605263</td>\n",
       "    </tr>\n",
       "    <tr>\n",
       "      <th>25%</th>\n",
       "      <td>1.750000</td>\n",
       "      <td>10.166667</td>\n",
       "      <td>5.625000</td>\n",
       "      <td>10.375000</td>\n",
       "      <td>5.875000</td>\n",
       "      <td>0.689359</td>\n",
       "    </tr>\n",
       "    <tr>\n",
       "      <th>50%</th>\n",
       "      <td>2.500000</td>\n",
       "      <td>10.833333</td>\n",
       "      <td>6.583333</td>\n",
       "      <td>10.916667</td>\n",
       "      <td>7.000000</td>\n",
       "      <td>0.762542</td>\n",
       "    </tr>\n",
       "    <tr>\n",
       "      <th>75%</th>\n",
       "      <td>3.250000</td>\n",
       "      <td>13.416667</td>\n",
       "      <td>7.000000</td>\n",
       "      <td>12.666667</td>\n",
       "      <td>8.000000</td>\n",
       "      <td>1.105769</td>\n",
       "    </tr>\n",
       "    <tr>\n",
       "      <th>max</th>\n",
       "      <td>4.000000</td>\n",
       "      <td>20.666667</td>\n",
       "      <td>8.000000</td>\n",
       "      <td>17.666667</td>\n",
       "      <td>10.000000</td>\n",
       "      <td>2.000000</td>\n",
       "    </tr>\n",
       "  </tbody>\n",
       "</table>\n",
       "</div>"
      ],
      "text/plain": [
       "       House ID  internal_temp  external_temp  internal_surface_temp  \\\n",
       "count  4.000000       4.000000       4.000000               4.000000   \n",
       "mean   2.500000      12.750000       6.041667              12.125000   \n",
       "std    1.290994       5.377422       2.136001               3.803933   \n",
       "min    1.000000       8.666667       3.000000               9.000000   \n",
       "25%    1.750000      10.166667       5.625000              10.375000   \n",
       "50%    2.500000      10.833333       6.583333              10.916667   \n",
       "75%    3.250000      13.416667       7.000000              12.666667   \n",
       "max    4.000000      20.666667       8.000000              17.666667   \n",
       "\n",
       "       external_surface_temp  delta_temp  \n",
       "count               4.000000    4.000000  \n",
       "mean                6.875000    1.032587  \n",
       "std                 2.671437    0.650236  \n",
       "min                 3.500000    0.605263  \n",
       "25%                 5.875000    0.689359  \n",
       "50%                 7.000000    0.762542  \n",
       "75%                 8.000000    1.105769  \n",
       "max                10.000000    2.000000  "
      ]
     },
     "execution_count": 27,
     "metadata": {},
     "output_type": "execute_result"
    }
   ],
   "source": [
    "# Calculate descriptive statistics for each of the lux values\n",
    "temp.describe()\n"
   ]
  }
 ],
 "metadata": {
  "kernelspec": {
   "display_name": ".venv",
   "language": "python",
   "name": "python3"
  },
  "language_info": {
   "codemirror_mode": {
    "name": "ipython",
    "version": 3
   },
   "file_extension": ".py",
   "mimetype": "text/x-python",
   "name": "python",
   "nbconvert_exporter": "python",
   "pygments_lexer": "ipython3",
   "version": "3.11.4"
  }
 },
 "nbformat": 4,
 "nbformat_minor": 2
}
